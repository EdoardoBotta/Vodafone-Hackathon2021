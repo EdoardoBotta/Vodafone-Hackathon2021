{
 "cells": [
  {
   "cell_type": "code",
   "execution_count": 54,
   "metadata": {
    "colab": {
     "base_uri": "https://localhost:8080/"
    },
    "id": "-Nat-pV-vby5",
    "outputId": "eb969320-b5cd-4153-fe5b-d908932bf37e"
   },
   "outputs": [
    {
     "name": "stdout",
     "output_type": "stream",
     "text": [
      "Requirement already satisfied: tensorflow_addons in /usr/local/lib/python3.6/dist-packages (0.12.1)\n",
      "Requirement already satisfied: typeguard>=2.7 in /usr/local/lib/python3.6/dist-packages (from tensorflow_addons) (2.7.1)\n"
     ]
    }
   ],
   "source": [
    "!pip install tensorflow_addons"
   ]
  },
  {
   "cell_type": "code",
   "execution_count": 55,
   "metadata": {
    "id": "vUCJK1mWIO0m"
   },
   "outputs": [],
   "source": [
    "import pandas as pd\n",
    "import numpy as np\n",
    "from sklearn.model_selection import train_test_split\n",
    "from sklearn.preprocessing import StandardScaler\n",
    "from tensorflow.keras.models import Model\n",
    "from tensorflow.keras.layers import  Dense, Dropout, Conv1D, Flatten, Input\n",
    "from tensorflow_addons.layers import WeightNormalization\n",
    "from tensorflow.keras.optimizers import Adam\n",
    "from tensorflow.keras.activations import swish\n",
    "from keras.layers.merge import concatenate"
   ]
  },
  {
   "cell_type": "code",
   "execution_count": 56,
   "metadata": {
    "colab": {
     "base_uri": "https://localhost:8080/"
    },
    "id": "9faTFWj1ITkO",
    "outputId": "e7e5fe8d-e063-4fb5-94e4-c0ee668ca7a2"
   },
   "outputs": [
    {
     "name": "stdout",
     "output_type": "stream",
     "text": [
      "Drive already mounted at /content/drive; to attempt to forcibly remount, call drive.mount(\"/content/drive\", force_remount=True).\n"
     ]
    }
   ],
   "source": [
    "from google.colab import drive\n",
    "drive.mount('/content/drive')"
   ]
  },
  {
   "cell_type": "code",
   "execution_count": 57,
   "metadata": {
    "id": "I65RfYZpI8O-"
   },
   "outputs": [],
   "source": [
    "import os\n",
    "os.chdir('/content/drive/MyDrive/Colab Notebooks')"
   ]
  },
  {
   "cell_type": "code",
   "execution_count": 58,
   "metadata": {
    "id": "4pzyasjWIO0p"
   },
   "outputs": [],
   "source": [
    "data = pd.read_parquet('full_dataset.parquet', engine='pyarrow')\n",
    "train = pd.read_csv('train.csv')\n",
    "test = pd.read_csv('test.csv')"
   ]
  },
  {
   "cell_type": "code",
   "execution_count": 59,
   "metadata": {
    "colab": {
     "base_uri": "https://localhost:8080/",
     "height": 309
    },
    "id": "bg6C5-E3IO0q",
    "outputId": "b2357a40-991f-4693-9b42-cca760df5f98"
   },
   "outputs": [
    {
     "data": {
      "text/html": [
       "<div>\n",
       "<style scoped>\n",
       "    .dataframe tbody tr th:only-of-type {\n",
       "        vertical-align: middle;\n",
       "    }\n",
       "\n",
       "    .dataframe tbody tr th {\n",
       "        vertical-align: top;\n",
       "    }\n",
       "\n",
       "    .dataframe thead th {\n",
       "        text-align: right;\n",
       "    }\n",
       "</style>\n",
       "<table border=\"1\" class=\"dataframe\">\n",
       "  <thead>\n",
       "    <tr style=\"text-align: right;\">\n",
       "      <th></th>\n",
       "      <th>session_id</th>\n",
       "      <th>user_identifier</th>\n",
       "      <th>event_timestamp</th>\n",
       "      <th>event_category_idx_lv1</th>\n",
       "      <th>event_category_idx_lv2</th>\n",
       "      <th>event_category_idx_lv3</th>\n",
       "      <th>event_category_idx_lv4</th>\n",
       "      <th>tobi_timestamp</th>\n",
       "    </tr>\n",
       "  </thead>\n",
       "  <tbody>\n",
       "    <tr>\n",
       "      <th>0</th>\n",
       "      <td>182576</td>\n",
       "      <td>0</td>\n",
       "      <td>2020-09-22 14:38:14</td>\n",
       "      <td>1_5</td>\n",
       "      <td>2</td>\n",
       "      <td>None</td>\n",
       "      <td>None</td>\n",
       "      <td>2020-09-24 02:03:53</td>\n",
       "    </tr>\n",
       "    <tr>\n",
       "      <th>1</th>\n",
       "      <td>182576</td>\n",
       "      <td>0</td>\n",
       "      <td>2020-09-22 14:38:14</td>\n",
       "      <td>1_4</td>\n",
       "      <td>2_9</td>\n",
       "      <td>3_5</td>\n",
       "      <td>None</td>\n",
       "      <td>2020-09-24 02:03:53</td>\n",
       "    </tr>\n",
       "    <tr>\n",
       "      <th>2</th>\n",
       "      <td>182576</td>\n",
       "      <td>0</td>\n",
       "      <td>2020-09-22 11:46:56</td>\n",
       "      <td>1_4</td>\n",
       "      <td>2_9</td>\n",
       "      <td>3_6</td>\n",
       "      <td>None</td>\n",
       "      <td>2020-09-24 02:03:53</td>\n",
       "    </tr>\n",
       "    <tr>\n",
       "      <th>3</th>\n",
       "      <td>182576</td>\n",
       "      <td>0</td>\n",
       "      <td>2020-09-22 11:23:50</td>\n",
       "      <td>1_4</td>\n",
       "      <td>2_9</td>\n",
       "      <td>3_12</td>\n",
       "      <td>None</td>\n",
       "      <td>2020-09-24 02:03:53</td>\n",
       "    </tr>\n",
       "    <tr>\n",
       "      <th>4</th>\n",
       "      <td>182576</td>\n",
       "      <td>0</td>\n",
       "      <td>2020-09-22 11:21:29</td>\n",
       "      <td>1_4</td>\n",
       "      <td>2_9</td>\n",
       "      <td>3_6</td>\n",
       "      <td>None</td>\n",
       "      <td>2020-09-24 02:03:53</td>\n",
       "    </tr>\n",
       "  </tbody>\n",
       "</table>\n",
       "</div>"
      ],
      "text/plain": [
       "   session_id  user_identifier  ... event_category_idx_lv4      tobi_timestamp\n",
       "0      182576                0  ...                   None 2020-09-24 02:03:53\n",
       "1      182576                0  ...                   None 2020-09-24 02:03:53\n",
       "2      182576                0  ...                   None 2020-09-24 02:03:53\n",
       "3      182576                0  ...                   None 2020-09-24 02:03:53\n",
       "4      182576                0  ...                   None 2020-09-24 02:03:53\n",
       "\n",
       "[5 rows x 8 columns]"
      ]
     },
     "execution_count": 59,
     "metadata": {
      "tags": []
     },
     "output_type": "execute_result"
    }
   ],
   "source": [
    "data.head()"
   ]
  },
  {
   "cell_type": "code",
   "execution_count": 60,
   "metadata": {
    "id": "_FOYBpHUIO0s"
   },
   "outputs": [],
   "source": [
    "data.sort_values(by=['session_id','event_timestamp'], inplace=True)"
   ]
  },
  {
   "cell_type": "code",
   "execution_count": 61,
   "metadata": {
    "id": "ToxJTzu9CAUK"
   },
   "outputs": [],
   "source": [
    "baseline_date = pd.Timestamp(year=2020, month=4, day=14)"
   ]
  },
  {
   "cell_type": "code",
   "execution_count": 62,
   "metadata": {
    "id": "ajb6PsvsCAUL"
   },
   "outputs": [],
   "source": [
    "data['event_timestamp'] = (data['event_timestamp'] - baseline_date).apply(lambda ts: ts.delta) * 1e-9 "
   ]
  },
  {
   "cell_type": "code",
   "execution_count": 63,
   "metadata": {
    "id": "kdJ0wL4R35IF"
   },
   "outputs": [],
   "source": [
    "data['tobi_timestamp'] = (data['tobi_timestamp'] - min(data['tobi_timestamp'])).apply(lambda td: td.delta) * 1e-9"
   ]
  },
  {
   "cell_type": "code",
   "execution_count": 64,
   "metadata": {
    "id": "nZweNAEeIO0t"
   },
   "outputs": [],
   "source": [
    "filt = data['event_category_idx_lv2'].apply(lambda s: s.isnumeric() if isinstance(s, str) else False)\n",
    "to_drop = data[filt]"
   ]
  },
  {
   "cell_type": "code",
   "execution_count": 65,
   "metadata": {
    "id": "U9mb69Z6IO0u"
   },
   "outputs": [],
   "source": [
    "data.drop(index=to_drop.index, inplace=True)"
   ]
  },
  {
   "cell_type": "code",
   "execution_count": 66,
   "metadata": {
    "id": "4yrYb9KC-Y40"
   },
   "outputs": [],
   "source": [
    "event_categories = ['event_category_idx_lv1', 'event_category_idx_lv2', 'event_category_idx_lv3', 'event_category_idx_lv4']\n",
    "def filt(s):\n",
    "    if isinstance(s, str):\n",
    "        return s if s.isnumeric() else s[2:]\n",
    "    return -1\n",
    "for col in event_categories:\n",
    "    data[col] = data[col].apply(filt)"
   ]
  },
  {
   "cell_type": "code",
   "execution_count": 67,
   "metadata": {
    "colab": {
     "base_uri": "https://localhost:8080/",
     "height": 438
    },
    "id": "Z8RxypxXIO0v",
    "outputId": "9bec6807-9532-4e53-8938-72f30a79e806"
   },
   "outputs": [
    {
     "data": {
      "text/html": [
       "<div>\n",
       "<style scoped>\n",
       "    .dataframe tbody tr th:only-of-type {\n",
       "        vertical-align: middle;\n",
       "    }\n",
       "\n",
       "    .dataframe tbody tr th {\n",
       "        vertical-align: top;\n",
       "    }\n",
       "\n",
       "    .dataframe thead th {\n",
       "        text-align: right;\n",
       "    }\n",
       "</style>\n",
       "<table border=\"1\" class=\"dataframe\">\n",
       "  <thead>\n",
       "    <tr style=\"text-align: right;\">\n",
       "      <th></th>\n",
       "      <th>session_id</th>\n",
       "      <th>user_identifier</th>\n",
       "      <th>event_timestamp</th>\n",
       "      <th>event_category_idx_lv1</th>\n",
       "      <th>event_category_idx_lv2</th>\n",
       "      <th>event_category_idx_lv3</th>\n",
       "      <th>event_category_idx_lv4</th>\n",
       "      <th>tobi_timestamp</th>\n",
       "    </tr>\n",
       "  </thead>\n",
       "  <tbody>\n",
       "    <tr>\n",
       "      <th>4134595</th>\n",
       "      <td>6</td>\n",
       "      <td>237376</td>\n",
       "      <td>7980451.0</td>\n",
       "      <td>0</td>\n",
       "      <td>3</td>\n",
       "      <td>-1</td>\n",
       "      <td>-1</td>\n",
       "      <td>4445182.0</td>\n",
       "    </tr>\n",
       "    <tr>\n",
       "      <th>4134594</th>\n",
       "      <td>6</td>\n",
       "      <td>237376</td>\n",
       "      <td>8021332.0</td>\n",
       "      <td>0</td>\n",
       "      <td>2</td>\n",
       "      <td>-1</td>\n",
       "      <td>-1</td>\n",
       "      <td>4445182.0</td>\n",
       "    </tr>\n",
       "    <tr>\n",
       "      <th>4134593</th>\n",
       "      <td>6</td>\n",
       "      <td>237376</td>\n",
       "      <td>8021360.0</td>\n",
       "      <td>0</td>\n",
       "      <td>4</td>\n",
       "      <td>-1</td>\n",
       "      <td>-1</td>\n",
       "      <td>4445182.0</td>\n",
       "    </tr>\n",
       "    <tr>\n",
       "      <th>4134592</th>\n",
       "      <td>6</td>\n",
       "      <td>237376</td>\n",
       "      <td>8021371.0</td>\n",
       "      <td>0</td>\n",
       "      <td>4</td>\n",
       "      <td>-1</td>\n",
       "      <td>-1</td>\n",
       "      <td>4445182.0</td>\n",
       "    </tr>\n",
       "    <tr>\n",
       "      <th>4134591</th>\n",
       "      <td>6</td>\n",
       "      <td>237376</td>\n",
       "      <td>8021415.0</td>\n",
       "      <td>0</td>\n",
       "      <td>3</td>\n",
       "      <td>-1</td>\n",
       "      <td>-1</td>\n",
       "      <td>4445182.0</td>\n",
       "    </tr>\n",
       "    <tr>\n",
       "      <th>...</th>\n",
       "      <td>...</td>\n",
       "      <td>...</td>\n",
       "      <td>...</td>\n",
       "      <td>...</td>\n",
       "      <td>...</td>\n",
       "      <td>...</td>\n",
       "      <td>...</td>\n",
       "      <td>...</td>\n",
       "    </tr>\n",
       "    <tr>\n",
       "      <th>2883978</th>\n",
       "      <td>1606201</td>\n",
       "      <td>97349</td>\n",
       "      <td>14061100.0</td>\n",
       "      <td>4</td>\n",
       "      <td>9</td>\n",
       "      <td>5</td>\n",
       "      <td>-1</td>\n",
       "      <td>9890853.0</td>\n",
       "    </tr>\n",
       "    <tr>\n",
       "      <th>5532706</th>\n",
       "      <td>1606217</td>\n",
       "      <td>701497</td>\n",
       "      <td>5657100.0</td>\n",
       "      <td>3</td>\n",
       "      <td>6</td>\n",
       "      <td>-1</td>\n",
       "      <td>-1</td>\n",
       "      <td>1540260.0</td>\n",
       "    </tr>\n",
       "    <tr>\n",
       "      <th>5676991</th>\n",
       "      <td>1606224</td>\n",
       "      <td>871126</td>\n",
       "      <td>4147200.0</td>\n",
       "      <td>2</td>\n",
       "      <td>1</td>\n",
       "      <td>2</td>\n",
       "      <td>-1</td>\n",
       "      <td>123330.0</td>\n",
       "    </tr>\n",
       "    <tr>\n",
       "      <th>1431141</th>\n",
       "      <td>1606226</td>\n",
       "      <td>25526</td>\n",
       "      <td>4454640.0</td>\n",
       "      <td>1</td>\n",
       "      <td>0</td>\n",
       "      <td>0</td>\n",
       "      <td>1</td>\n",
       "      <td>323692.0</td>\n",
       "    </tr>\n",
       "    <tr>\n",
       "      <th>5668409</th>\n",
       "      <td>1606227</td>\n",
       "      <td>846547</td>\n",
       "      <td>5529600.0</td>\n",
       "      <td>2</td>\n",
       "      <td>14</td>\n",
       "      <td>4</td>\n",
       "      <td>-1</td>\n",
       "      <td>2483548.0</td>\n",
       "    </tr>\n",
       "  </tbody>\n",
       "</table>\n",
       "<p>5329225 rows × 8 columns</p>\n",
       "</div>"
      ],
      "text/plain": [
       "         session_id  user_identifier  ...  event_category_idx_lv4 tobi_timestamp\n",
       "4134595           6           237376  ...                      -1      4445182.0\n",
       "4134594           6           237376  ...                      -1      4445182.0\n",
       "4134593           6           237376  ...                      -1      4445182.0\n",
       "4134592           6           237376  ...                      -1      4445182.0\n",
       "4134591           6           237376  ...                      -1      4445182.0\n",
       "...             ...              ...  ...                     ...            ...\n",
       "2883978     1606201            97349  ...                      -1      9890853.0\n",
       "5532706     1606217           701497  ...                      -1      1540260.0\n",
       "5676991     1606224           871126  ...                      -1       123330.0\n",
       "1431141     1606226            25526  ...                       1       323692.0\n",
       "5668409     1606227           846547  ...                      -1      2483548.0\n",
       "\n",
       "[5329225 rows x 8 columns]"
      ]
     },
     "execution_count": 67,
     "metadata": {
      "tags": []
     },
     "output_type": "execute_result"
    }
   ],
   "source": [
    "data"
   ]
  },
  {
   "cell_type": "code",
   "execution_count": 68,
   "metadata": {
    "id": "juW2A_gVIO0v"
   },
   "outputs": [],
   "source": [
    "training_data = data[data['session_id'].isin(train['session_id'])]"
   ]
  },
  {
   "cell_type": "code",
   "execution_count": 69,
   "metadata": {
    "id": "R2p-y1ZwIO0w"
   },
   "outputs": [],
   "source": [
    "testing_data = data[data['session_id'].isin(test['session_id'])]"
   ]
  },
  {
   "cell_type": "code",
   "execution_count": 70,
   "metadata": {
    "id": "Mrsmm3tdIO0x"
   },
   "outputs": [],
   "source": [
    "y_train, y_test_and_val = train_test_split(train, train_size=0.7, random_state=42)\n",
    "y_test, y_val = train_test_split(y_test_and_val, train_size=0.5, random_state=42)"
   ]
  },
  {
   "cell_type": "code",
   "execution_count": 71,
   "metadata": {
    "colab": {
     "base_uri": "https://localhost:8080/"
    },
    "id": "AKd7tfLr5FiT",
    "outputId": "4c14e02a-5b40-45c7-ddab-fa2cd227295d"
   },
   "outputs": [
    {
     "name": "stderr",
     "output_type": "stream",
     "text": [
      "/usr/local/lib/python3.6/dist-packages/ipykernel_launcher.py:2: SettingWithCopyWarning: \n",
      "A value is trying to be set on a copy of a slice from a DataFrame\n",
      "\n",
      "See the caveats in the documentation: https://pandas.pydata.org/pandas-docs/stable/user_guide/indexing.html#returning-a-view-versus-a-copy\n",
      "  \n"
     ]
    }
   ],
   "source": [
    "for df in [y_train, y_test, y_val]:\n",
    "    df.sort_values(by='session_id', inplace=True)"
   ]
  },
  {
   "cell_type": "code",
   "execution_count": 72,
   "metadata": {
    "id": "3UoDvydc4vvc"
   },
   "outputs": [],
   "source": [
    "train_df = data[data['session_id'].isin(y_train['session_id'])]\n",
    "test_df = data[data['session_id'].isin(y_test['session_id'])]\n",
    "val_df = data[data['session_id'].isin(y_val['session_id'])]"
   ]
  },
  {
   "cell_type": "code",
   "execution_count": null,
   "metadata": {
    "id": "Wm1oGZvegsse"
   },
   "outputs": [],
   "source": []
  },
  {
   "cell_type": "code",
   "execution_count": 73,
   "metadata": {
    "colab": {
     "base_uri": "https://localhost:8080/"
    },
    "id": "YjZB9hc9IO0w",
    "outputId": "1be52140-e332-4839-94e9-58345cf31dee"
   },
   "outputs": [
    {
     "data": {
      "text/plain": [
       "347837"
      ]
     },
     "execution_count": 73,
     "metadata": {
      "tags": []
     },
     "output_type": "execute_result"
    }
   ],
   "source": [
    "n_sequences = data['session_id'].nunique()\n",
    "n_sequences"
   ]
  },
  {
   "cell_type": "code",
   "execution_count": 74,
   "metadata": {
    "id": "O-mdPcjWIO0w"
   },
   "outputs": [],
   "source": [
    "def reshape_inputs(dataset, users_history):\n",
    "    n_sequences = dataset['session_id'].nunique()\n",
    "    max_length = max(dataset['session_id'].value_counts())\n",
    "    unique_users = users_history[0].unique()\n",
    "    sequences = -np.ones((n_sequences, max_length, 7))\n",
    "    user_data = np.zeros((n_sequences, 4))\n",
    "\n",
    "    i = 0\n",
    "    grouped = dataset.groupby('session_id').apply(np.array)\n",
    "    for seq in grouped:\n",
    "        l = len(seq)\n",
    "        user = seq[0,1]\n",
    "        sequences[i,:l] = seq[:,1:]\n",
    "        if user in unique_users:\n",
    "            user_data[i,:] = users_history.loc[users_history[0] == user, [1,2,3,4]]\n",
    "        i += 1\n",
    "    return sequences, user_data"
   ]
  },
  {
   "cell_type": "code",
   "execution_count": 76,
   "metadata": {
    "id": "xTqmkHCk04y2"
   },
   "outputs": [],
   "source": [
    "def get_user_data(dataset, series):\n",
    "    user_sessions = dataset.groupby('session_id')['user_identifier'].unique().apply(lambda s: s[0]).reset_index()\n",
    "    user_sessions['label'] = series.sort_values(by='session_id').reset_index()['label']\n",
    "    unique_users = np.sort(dataset['user_identifier'].unique())\n",
    "    labels_by_user = user_sessions.groupby('user_identifier')['label'].value_counts()\n",
    "\n",
    "    labels_count_by_user = np.zeros((124382,5), dtype=np.float32)\n",
    "    j = 0\n",
    "    for user in unique_users:\n",
    "        labels_count_by_user[j,0] = user\n",
    "        for i in labels_by_user[user].index:\n",
    "            labels_count_by_user[j,i] = labels_by_user[user,i]\n",
    "        j += 1\n",
    "    \n",
    "    return pd.DataFrame(labels_count_by_user)"
   ]
  },
  {
   "cell_type": "code",
   "execution_count": null,
   "metadata": {
    "id": "vJxaBFFLh66R"
   },
   "outputs": [],
   "source": [
    "train_labels_by_user = get_user_data(training_data, train)"
   ]
  },
  {
   "cell_type": "code",
   "execution_count": 78,
   "metadata": {
    "id": "SrSZ9lqHIO0w"
   },
   "outputs": [],
   "source": [
    "X_train_1, X_train_2 = reshape_inputs(train_df, train_labels_by_user)\n",
    "X_test_1, X_test_2 = reshape_inputs(test_df, train_labels_by_user)\n",
    "X_val_1, X_val_2 = reshape_inputs(val_df, train_labels_by_user)"
   ]
  },
  {
   "cell_type": "code",
   "execution_count": 79,
   "metadata": {
    "id": "rjpVFUi4l26w"
   },
   "outputs": [],
   "source": [
    "y_train = y_train['label'] - 1 # REMEMBER TO DO +1 WHEN SUBMITTING\n",
    "y_test = y_test['label'] - 1\n",
    "y_val = y_val['label'] - 1"
   ]
  },
  {
   "cell_type": "code",
   "execution_count": 80,
   "metadata": {
    "id": "3Wg8vMpZsN8d"
   },
   "outputs": [],
   "source": [
    "i = 0\n",
    "for label in y_train:\n",
    "    X_train_2[i,label] -= 1\n",
    "    i += 1"
   ]
  },
  {
   "cell_type": "code",
   "execution_count": 81,
   "metadata": {
    "id": "rE2r4YsGt64k"
   },
   "outputs": [],
   "source": [
    "scaler = StandardScaler()\n",
    "X_train_1 = scaler.fit_transform(X_train_1.reshape(-1, X_train_1.shape[-1])).reshape(X_train_1.shape)\n",
    "X_test_1 = scaler.transform(X_test_1.reshape(-1, X_test_1.shape[-1])).reshape(X_test_1.shape)\n",
    "X_val_1 = scaler.transform(X_val_1.reshape(-1, X_val_1.shape[-1])).reshape(X_val_1.shape)"
   ]
  },
  {
   "cell_type": "code",
   "execution_count": 82,
   "metadata": {
    "id": "NeKNuGbouFIG"
   },
   "outputs": [],
   "source": [
    "X_train_2 = scaler.fit_transform(X_train_2)\n",
    "X_test_2 = scaler.transform(X_test_2)\n",
    "X_val_2 = scaler.transform(X_val_2)"
   ]
  },
  {
   "cell_type": "code",
   "execution_count": 97,
   "metadata": {
    "id": "IqYTyPX8V0_S"
   },
   "outputs": [],
   "source": [
    "returning_users_test = pd.Series(X_test_1[:,0,0]).isin(X_train_1[:,0,0])\n",
    "returning_users_val = pd.Series(X_val_1[:,0,0]).isin(X_train_1[:,0,0])   "
   ]
  },
  {
   "cell_type": "code",
   "execution_count": 92,
   "metadata": {
    "id": "lzhV0jIevPJj"
   },
   "outputs": [],
   "source": [
    "def build_model(filters=128, kernel_size=3): # BEST ONE, 40/60 epochs, dropout= 0.4 or 0.5, with 0.5 dropout 100/120 epochs\n",
    "    input2 = Input(shape=(4))\n",
    "\n",
    "    input3 = Input(shape=(30,7))\n",
    "\n",
    "    n_layers = int(np.ceil(np.log2(30 / (kernel_size - 1))))\n",
    "    dilation_schedule = [2**k for k in range(1, n_layers)]\n",
    "\n",
    "    conv = WeightNormalization(Conv1D(filters, kernel_size, padding='causal', dilation_rate=1, \n",
    "                                      activation=swish))(input3)\n",
    "    conv = Dropout(0.4)(conv)\n",
    "    for rate in dilation_schedule:\n",
    "        conv = WeightNormalization(Conv1D(filters, kernel_size, padding='causal', dilation_rate=rate, \n",
    "                                          activation=swish))(conv)\n",
    "        conv = Dropout(0.4)(conv)\n",
    "    flattened = Flatten()(conv)\n",
    "\n",
    "    concatenated = concatenate([input2, flattened])\n",
    "    dense = Dense(2048, activation='tanh')(concatenated)\n",
    "    dropout = Dropout(0.4)(dense)\n",
    "    dense = Dense(2048, activation='tanh')(dropout)\n",
    "    dropout = Dropout(0.4)(dense)\n",
    "    out = Dense(4, activation='softmax')(dropout)\n",
    "    model = Model([input3, input2], out)\n",
    "\n",
    "    opt = Adam(learning_rate=5e-4, amsgrad=True)\n",
    "    model.compile(\n",
    "        optimizer=opt, loss='sparse_categorical_crossentropy', metrics=['accuracy'])\n",
    "    \n",
    "    return model"
   ]
  },
  {
   "cell_type": "code",
   "execution_count": 93,
   "metadata": {
    "id": "x1aAn6OEP1yH"
   },
   "outputs": [],
   "source": [
    "model = build_model()"
   ]
  },
  {
   "cell_type": "code",
   "execution_count": 42,
   "metadata": {
    "colab": {
     "base_uri": "https://localhost:8080/"
    },
    "id": "XcXI4VUUA1OV",
    "outputId": "6423572e-767b-433f-d6a5-ad6a3d3229e8"
   },
   "outputs": [
    {
     "name": "stdout",
     "output_type": "stream",
     "text": [
      "Model: \"model\"\n",
      "__________________________________________________________________________________________________\n",
      "Layer (type)                    Output Shape         Param #     Connected to                     \n",
      "==================================================================================================\n",
      "input_2 (InputLayer)            [(None, 30, 7)]      0                                            \n",
      "__________________________________________________________________________________________________\n",
      "weight_normalization (WeightNor (None, 30, 128)      5761        input_2[0][0]                    \n",
      "__________________________________________________________________________________________________\n",
      "dropout (Dropout)               (None, 30, 128)      0           weight_normalization[0][0]       \n",
      "__________________________________________________________________________________________________\n",
      "weight_normalization_1 (WeightN (None, 30, 128)      98689       dropout[0][0]                    \n",
      "__________________________________________________________________________________________________\n",
      "dropout_1 (Dropout)             (None, 30, 128)      0           weight_normalization_1[0][0]     \n",
      "__________________________________________________________________________________________________\n",
      "weight_normalization_2 (WeightN (None, 30, 128)      98689       dropout_1[0][0]                  \n",
      "__________________________________________________________________________________________________\n",
      "dropout_2 (Dropout)             (None, 30, 128)      0           weight_normalization_2[0][0]     \n",
      "__________________________________________________________________________________________________\n",
      "weight_normalization_3 (WeightN (None, 30, 128)      98689       dropout_2[0][0]                  \n",
      "__________________________________________________________________________________________________\n",
      "dropout_3 (Dropout)             (None, 30, 128)      0           weight_normalization_3[0][0]     \n",
      "__________________________________________________________________________________________________\n",
      "input_1 (InputLayer)            [(None, 4)]          0                                            \n",
      "__________________________________________________________________________________________________\n",
      "flatten (Flatten)               (None, 3840)         0           dropout_3[0][0]                  \n",
      "__________________________________________________________________________________________________\n",
      "concatenate (Concatenate)       (None, 3844)         0           input_1[0][0]                    \n",
      "                                                                 flatten[0][0]                    \n",
      "__________________________________________________________________________________________________\n",
      "dense (Dense)                   (None, 2048)         7874560     concatenate[0][0]                \n",
      "__________________________________________________________________________________________________\n",
      "dropout_4 (Dropout)             (None, 2048)         0           dense[0][0]                      \n",
      "__________________________________________________________________________________________________\n",
      "dense_1 (Dense)                 (None, 2048)         4196352     dropout_4[0][0]                  \n",
      "__________________________________________________________________________________________________\n",
      "dropout_5 (Dropout)             (None, 2048)         0           dense_1[0][0]                    \n",
      "__________________________________________________________________________________________________\n",
      "dense_2 (Dense)                 (None, 4)            8196        dropout_5[0][0]                  \n",
      "==================================================================================================\n",
      "Total params: 12,380,936\n",
      "Trainable params: 12,230,276\n",
      "Non-trainable params: 150,660\n",
      "__________________________________________________________________________________________________\n"
     ]
    }
   ],
   "source": [
    "model.summary()"
   ]
  },
  {
   "cell_type": "code",
   "execution_count": null,
   "metadata": {
    "id": "HH1uM9aYwTPP"
   },
   "outputs": [],
   "source": [
    "history = model.fit([X_train_1, X_train_2], y_train, validation_data=([X_val_1, X_val_2], y_val), epochs=80, batch_size=64)"
   ]
  },
  {
   "cell_type": "code",
   "execution_count": 101,
   "metadata": {
    "colab": {
     "base_uri": "https://localhost:8080/"
    },
    "id": "RIohKrruLJjZ",
    "outputId": "dce087ee-dc32-4e40-8ba1-9788d4a346e7"
   },
   "outputs": [
    {
     "name": "stdout",
     "output_type": "stream",
     "text": [
      "978/978 [==============================] - 4s 4ms/step - loss: 1.1054 - accuracy: 0.5229\n"
     ]
    },
    {
     "data": {
      "text/plain": [
       "[1.105362057685852, 0.5228791832923889]"
      ]
     },
     "execution_count": 101,
     "metadata": {
      "tags": []
     },
     "output_type": "execute_result"
    }
   ],
   "source": [
    "model.evaluate([X_test_1, X_test_2], y_test)"
   ]
  },
  {
   "cell_type": "code",
   "execution_count": 102,
   "metadata": {
    "colab": {
     "base_uri": "https://localhost:8080/"
    },
    "id": "afwKNMc8WyDk",
    "outputId": "1f7ec1e9-6787-4cc4-f473-20126e4d2441"
   },
   "outputs": [
    {
     "name": "stdout",
     "output_type": "stream",
     "text": [
      "254/254 [==============================] - 1s 5ms/step - loss: 0.9311 - accuracy: 0.6376\n"
     ]
    },
    {
     "data": {
      "text/plain": [
       "[0.9310709238052368, 0.6376418471336365]"
      ]
     },
     "execution_count": 102,
     "metadata": {
      "tags": []
     },
     "output_type": "execute_result"
    }
   ],
   "source": [
    "model.evaluate([X_test_1[returning_users_test,:,:], X_test_2[returning_users_test,:]], y_test[(returning_users_test).to_numpy()])"
   ]
  },
  {
   "cell_type": "code",
   "execution_count": 103,
   "metadata": {
    "colab": {
     "base_uri": "https://localhost:8080/"
    },
    "id": "dOQgmlGaJQLL",
    "outputId": "2e6b8738-a66b-46c8-97d6-27199bad0c1e"
   },
   "outputs": [
    {
     "name": "stdout",
     "output_type": "stream",
     "text": [
      "724/724 [==============================] - 3s 4ms/step - loss: 1.1664 - accuracy: 0.4827\n"
     ]
    },
    {
     "data": {
      "text/plain": [
       "[1.1663661003112793, 0.48271098732948303]"
      ]
     },
     "execution_count": 103,
     "metadata": {
      "tags": []
     },
     "output_type": "execute_result"
    }
   ],
   "source": [
    "model.evaluate([X_test_1[~returning_users_test,:,:], X_test_2[~returning_users_test,:]], y_test[(~returning_users_test).to_numpy()])"
   ]
  },
  {
   "cell_type": "code",
   "execution_count": null,
   "metadata": {
    "id": "TF_Ab6_l11Up"
   },
   "outputs": [],
   "source": []
  }
 ],
 "metadata": {
  "accelerator": "GPU",
  "colab": {
   "collapsed_sections": [],
   "name": "vodafone_challenge_(1) (1).ipynb",
   "provenance": []
  },
  "kernelspec": {
   "display_name": "Python 3",
   "language": "python",
   "name": "python3"
  },
  "language_info": {
   "codemirror_mode": {
    "name": "ipython",
    "version": 3
   },
   "file_extension": ".py",
   "mimetype": "text/x-python",
   "name": "python",
   "nbconvert_exporter": "python",
   "pygments_lexer": "ipython3",
   "version": "3.7.7"
  }
 },
 "nbformat": 4,
 "nbformat_minor": 1
}

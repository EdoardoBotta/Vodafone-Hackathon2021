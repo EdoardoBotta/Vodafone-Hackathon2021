{
 "cells": [
  {
   "cell_type": "code",
   "execution_count": null,
   "metadata": {
    "colab": {
     "base_uri": "https://localhost:8080/"
    },
    "id": "-Nat-pV-vby5",
    "outputId": "ba79abc4-021f-4bc5-f5bd-b7e9bbfbc4bc"
   },
   "outputs": [
    {
     "name": "stdout",
     "output_type": "stream",
     "text": [
      "Collecting tensorflow_addons\n",
      "\u001b[?25l  Downloading https://files.pythonhosted.org/packages/2e/af/0ce633c373d2b0476ef8299673d22275fcc3c5ba283b2cec4aa06bc5b810/tensorflow_addons-0.12.1-cp36-cp36m-manylinux2010_x86_64.whl (703kB)\n",
      "\r",
      "\u001b[K     |▌                               | 10kB 19.3MB/s eta 0:00:01\r",
      "\u001b[K     |█                               | 20kB 26.2MB/s eta 0:00:01\r",
      "\u001b[K     |█▍                              | 30kB 26.4MB/s eta 0:00:01\r",
      "\u001b[K     |█▉                              | 40kB 23.0MB/s eta 0:00:01\r",
      "\u001b[K     |██▎                             | 51kB 24.2MB/s eta 0:00:01\r",
      "\u001b[K     |██▉                             | 61kB 17.4MB/s eta 0:00:01\r",
      "\u001b[K     |███▎                            | 71kB 17.6MB/s eta 0:00:01\r",
      "\u001b[K     |███▊                            | 81kB 18.3MB/s eta 0:00:01\r",
      "\u001b[K     |████▏                           | 92kB 16.3MB/s eta 0:00:01\r",
      "\u001b[K     |████▋                           | 102kB 17.5MB/s eta 0:00:01\r",
      "\u001b[K     |█████▏                          | 112kB 17.5MB/s eta 0:00:01\r",
      "\u001b[K     |█████▋                          | 122kB 17.5MB/s eta 0:00:01\r",
      "\u001b[K     |██████                          | 133kB 17.5MB/s eta 0:00:01\r",
      "\u001b[K     |██████▌                         | 143kB 17.5MB/s eta 0:00:01\r",
      "\u001b[K     |███████                         | 153kB 17.5MB/s eta 0:00:01\r",
      "\u001b[K     |███████▌                        | 163kB 17.5MB/s eta 0:00:01\r",
      "\u001b[K     |████████                        | 174kB 17.5MB/s eta 0:00:01\r",
      "\u001b[K     |████████▍                       | 184kB 17.5MB/s eta 0:00:01\r",
      "\u001b[K     |████████▉                       | 194kB 17.5MB/s eta 0:00:01\r",
      "\u001b[K     |█████████▎                      | 204kB 17.5MB/s eta 0:00:01\r",
      "\u001b[K     |█████████▉                      | 215kB 17.5MB/s eta 0:00:01\r",
      "\u001b[K     |██████████▎                     | 225kB 17.5MB/s eta 0:00:01\r",
      "\u001b[K     |██████████▊                     | 235kB 17.5MB/s eta 0:00:01\r",
      "\u001b[K     |███████████▏                    | 245kB 17.5MB/s eta 0:00:01\r",
      "\u001b[K     |███████████▋                    | 256kB 17.5MB/s eta 0:00:01\r",
      "\u001b[K     |████████████▏                   | 266kB 17.5MB/s eta 0:00:01\r",
      "\u001b[K     |████████████▋                   | 276kB 17.5MB/s eta 0:00:01\r",
      "\u001b[K     |█████████████                   | 286kB 17.5MB/s eta 0:00:01\r",
      "\u001b[K     |█████████████▌                  | 296kB 17.5MB/s eta 0:00:01\r",
      "\u001b[K     |██████████████                  | 307kB 17.5MB/s eta 0:00:01\r",
      "\u001b[K     |██████████████▍                 | 317kB 17.5MB/s eta 0:00:01\r",
      "\u001b[K     |███████████████                 | 327kB 17.5MB/s eta 0:00:01\r",
      "\u001b[K     |███████████████▍                | 337kB 17.5MB/s eta 0:00:01\r",
      "\u001b[K     |███████████████▉                | 348kB 17.5MB/s eta 0:00:01\r",
      "\u001b[K     |████████████████▎               | 358kB 17.5MB/s eta 0:00:01\r",
      "\u001b[K     |████████████████▊               | 368kB 17.5MB/s eta 0:00:01\r",
      "\u001b[K     |█████████████████▎              | 378kB 17.5MB/s eta 0:00:01\r",
      "\u001b[K     |█████████████████▊              | 389kB 17.5MB/s eta 0:00:01\r",
      "\u001b[K     |██████████████████▏             | 399kB 17.5MB/s eta 0:00:01\r",
      "\u001b[K     |██████████████████▋             | 409kB 17.5MB/s eta 0:00:01\r",
      "\u001b[K     |███████████████████             | 419kB 17.5MB/s eta 0:00:01\r",
      "\u001b[K     |███████████████████▋            | 430kB 17.5MB/s eta 0:00:01\r",
      "\u001b[K     |████████████████████            | 440kB 17.5MB/s eta 0:00:01\r",
      "\u001b[K     |████████████████████▌           | 450kB 17.5MB/s eta 0:00:01\r",
      "\u001b[K     |█████████████████████           | 460kB 17.5MB/s eta 0:00:01\r",
      "\u001b[K     |█████████████████████▍          | 471kB 17.5MB/s eta 0:00:01\r",
      "\u001b[K     |██████████████████████          | 481kB 17.5MB/s eta 0:00:01\r",
      "\u001b[K     |██████████████████████▍         | 491kB 17.5MB/s eta 0:00:01\r",
      "\u001b[K     |██████████████████████▉         | 501kB 17.5MB/s eta 0:00:01\r",
      "\u001b[K     |███████████████████████▎        | 512kB 17.5MB/s eta 0:00:01\r",
      "\u001b[K     |███████████████████████▊        | 522kB 17.5MB/s eta 0:00:01\r",
      "\u001b[K     |████████████████████████▎       | 532kB 17.5MB/s eta 0:00:01\r",
      "\u001b[K     |████████████████████████▊       | 542kB 17.5MB/s eta 0:00:01\r",
      "\u001b[K     |█████████████████████████▏      | 552kB 17.5MB/s eta 0:00:01\r",
      "\u001b[K     |█████████████████████████▋      | 563kB 17.5MB/s eta 0:00:01\r",
      "\u001b[K     |██████████████████████████      | 573kB 17.5MB/s eta 0:00:01\r",
      "\u001b[K     |██████████████████████████▋     | 583kB 17.5MB/s eta 0:00:01\r",
      "\u001b[K     |███████████████████████████     | 593kB 17.5MB/s eta 0:00:01\r",
      "\u001b[K     |███████████████████████████▌    | 604kB 17.5MB/s eta 0:00:01\r",
      "\u001b[K     |████████████████████████████    | 614kB 17.5MB/s eta 0:00:01\r",
      "\u001b[K     |████████████████████████████▍   | 624kB 17.5MB/s eta 0:00:01\r",
      "\u001b[K     |████████████████████████████▉   | 634kB 17.5MB/s eta 0:00:01\r",
      "\u001b[K     |█████████████████████████████▍  | 645kB 17.5MB/s eta 0:00:01\r",
      "\u001b[K     |█████████████████████████████▉  | 655kB 17.5MB/s eta 0:00:01\r",
      "\u001b[K     |██████████████████████████████▎ | 665kB 17.5MB/s eta 0:00:01\r",
      "\u001b[K     |██████████████████████████████▊ | 675kB 17.5MB/s eta 0:00:01\r",
      "\u001b[K     |███████████████████████████████▏| 686kB 17.5MB/s eta 0:00:01\r",
      "\u001b[K     |███████████████████████████████▊| 696kB 17.5MB/s eta 0:00:01\r",
      "\u001b[K     |████████████████████████████████| 706kB 17.5MB/s \n",
      "\u001b[?25hRequirement already satisfied: typeguard>=2.7 in /usr/local/lib/python3.6/dist-packages (from tensorflow_addons) (2.7.1)\n",
      "Installing collected packages: tensorflow-addons\n",
      "Successfully installed tensorflow-addons-0.12.1\n"
     ]
    }
   ],
   "source": [
    "!pip install tensorflow_addons"
   ]
  },
  {
   "cell_type": "code",
   "execution_count": null,
   "metadata": {
    "id": "vUCJK1mWIO0m"
   },
   "outputs": [],
   "source": [
    "import pandas as pd\n",
    "import numpy as np\n",
    "from sklearn.model_selection import train_test_split, GridSearchCV\n",
    "from sklearn.preprocessing import StandardScaler, MinMaxScaler, LabelEncoder\n",
    "from sklearn.metrics import confusion_matrix\n",
    "from tensorflow.keras.models import Sequential\n",
    "from tensorflow.keras.layers import  Dense, Dropout, Conv1D, Flatten, GRU, MaxPooling1D, InputLayer\n",
    "from tensorflow_addons.layers import WeightNormalization\n",
    "from tensorflow.keras.wrappers.scikit_learn import KerasClassifier\n",
    "from tensorflow.keras.optimizers import Adam"
   ]
  },
  {
   "cell_type": "code",
   "execution_count": null,
   "metadata": {
    "colab": {
     "base_uri": "https://localhost:8080/"
    },
    "id": "9faTFWj1ITkO",
    "outputId": "fd3563d1-cc7e-4866-b03d-897fa1765663"
   },
   "outputs": [
    {
     "name": "stdout",
     "output_type": "stream",
     "text": [
      "Mounted at /content/drive\n"
     ]
    }
   ],
   "source": [
    "from google.colab import drive\n",
    "drive.mount('/content/drive')"
   ]
  },
  {
   "cell_type": "code",
   "execution_count": null,
   "metadata": {
    "id": "I65RfYZpI8O-"
   },
   "outputs": [],
   "source": [
    "import os\n",
    "os.chdir('/content/drive/MyDrive/Colab Notebooks')"
   ]
  },
  {
   "cell_type": "code",
   "execution_count": null,
   "metadata": {
    "id": "4pzyasjWIO0p"
   },
   "outputs": [],
   "source": [
    "data = pd.read_parquet('full_dataset.parquet', engine='pyarrow')\n",
    "train = pd.read_csv('train.csv')\n",
    "test = pd.read_csv('test.csv')"
   ]
  },
  {
   "cell_type": "code",
   "execution_count": null,
   "metadata": {
    "colab": {
     "base_uri": "https://localhost:8080/",
     "height": 309
    },
    "id": "bg6C5-E3IO0q",
    "outputId": "7ceafd93-268d-4895-a9c1-ea3ab5881309"
   },
   "outputs": [
    {
     "data": {
      "text/html": [
       "<div>\n",
       "<style scoped>\n",
       "    .dataframe tbody tr th:only-of-type {\n",
       "        vertical-align: middle;\n",
       "    }\n",
       "\n",
       "    .dataframe tbody tr th {\n",
       "        vertical-align: top;\n",
       "    }\n",
       "\n",
       "    .dataframe thead th {\n",
       "        text-align: right;\n",
       "    }\n",
       "</style>\n",
       "<table border=\"1\" class=\"dataframe\">\n",
       "  <thead>\n",
       "    <tr style=\"text-align: right;\">\n",
       "      <th></th>\n",
       "      <th>session_id</th>\n",
       "      <th>user_identifier</th>\n",
       "      <th>event_timestamp</th>\n",
       "      <th>event_category_idx_lv1</th>\n",
       "      <th>event_category_idx_lv2</th>\n",
       "      <th>event_category_idx_lv3</th>\n",
       "      <th>event_category_idx_lv4</th>\n",
       "      <th>tobi_timestamp</th>\n",
       "    </tr>\n",
       "  </thead>\n",
       "  <tbody>\n",
       "    <tr>\n",
       "      <th>0</th>\n",
       "      <td>182576</td>\n",
       "      <td>0</td>\n",
       "      <td>2020-09-22 14:38:14</td>\n",
       "      <td>1_5</td>\n",
       "      <td>2</td>\n",
       "      <td>None</td>\n",
       "      <td>None</td>\n",
       "      <td>2020-09-24 02:03:53</td>\n",
       "    </tr>\n",
       "    <tr>\n",
       "      <th>1</th>\n",
       "      <td>182576</td>\n",
       "      <td>0</td>\n",
       "      <td>2020-09-22 14:38:14</td>\n",
       "      <td>1_4</td>\n",
       "      <td>2_9</td>\n",
       "      <td>3_5</td>\n",
       "      <td>None</td>\n",
       "      <td>2020-09-24 02:03:53</td>\n",
       "    </tr>\n",
       "    <tr>\n",
       "      <th>2</th>\n",
       "      <td>182576</td>\n",
       "      <td>0</td>\n",
       "      <td>2020-09-22 11:46:56</td>\n",
       "      <td>1_4</td>\n",
       "      <td>2_9</td>\n",
       "      <td>3_6</td>\n",
       "      <td>None</td>\n",
       "      <td>2020-09-24 02:03:53</td>\n",
       "    </tr>\n",
       "    <tr>\n",
       "      <th>3</th>\n",
       "      <td>182576</td>\n",
       "      <td>0</td>\n",
       "      <td>2020-09-22 11:23:50</td>\n",
       "      <td>1_4</td>\n",
       "      <td>2_9</td>\n",
       "      <td>3_12</td>\n",
       "      <td>None</td>\n",
       "      <td>2020-09-24 02:03:53</td>\n",
       "    </tr>\n",
       "    <tr>\n",
       "      <th>4</th>\n",
       "      <td>182576</td>\n",
       "      <td>0</td>\n",
       "      <td>2020-09-22 11:21:29</td>\n",
       "      <td>1_4</td>\n",
       "      <td>2_9</td>\n",
       "      <td>3_6</td>\n",
       "      <td>None</td>\n",
       "      <td>2020-09-24 02:03:53</td>\n",
       "    </tr>\n",
       "  </tbody>\n",
       "</table>\n",
       "</div>"
      ],
      "text/plain": [
       "   session_id  user_identifier  ... event_category_idx_lv4      tobi_timestamp\n",
       "0      182576                0  ...                   None 2020-09-24 02:03:53\n",
       "1      182576                0  ...                   None 2020-09-24 02:03:53\n",
       "2      182576                0  ...                   None 2020-09-24 02:03:53\n",
       "3      182576                0  ...                   None 2020-09-24 02:03:53\n",
       "4      182576                0  ...                   None 2020-09-24 02:03:53\n",
       "\n",
       "[5 rows x 8 columns]"
      ]
     },
     "execution_count": 9,
     "metadata": {
      "tags": []
     },
     "output_type": "execute_result"
    }
   ],
   "source": [
    "data.head()"
   ]
  },
  {
   "cell_type": "code",
   "execution_count": null,
   "metadata": {
    "id": "_FOYBpHUIO0s"
   },
   "outputs": [],
   "source": [
    "data.sort_values(by=['session_id','event_timestamp'], inplace=True)"
   ]
  },
  {
   "cell_type": "code",
   "execution_count": null,
   "metadata": {
    "id": "kdJ0wL4R35IF"
   },
   "outputs": [],
   "source": [
    "data['tobi_timestamp'] = (data['tobi_timestamp'] - min(data['tobi_timestamp'])).apply(lambda td: td.delta) * 1e-9"
   ]
  },
  {
   "cell_type": "code",
   "execution_count": null,
   "metadata": {
    "id": "otTgNLe24a7e"
   },
   "outputs": [],
   "source": [
    "minimum_date = data.groupby('user_identifier', sort=False).min(numeric_only=True)"
   ]
  },
  {
   "cell_type": "code",
   "execution_count": null,
   "metadata": {
    "colab": {
     "base_uri": "https://localhost:8080/",
     "height": 609
    },
    "id": "40MKjQ_OIO0t",
    "outputId": "26cff465-18e4-436e-ca08-57f65709cf57"
   },
   "outputs": [
    {
     "data": {
      "text/html": [
       "<div>\n",
       "<style scoped>\n",
       "    .dataframe tbody tr th:only-of-type {\n",
       "        vertical-align: middle;\n",
       "    }\n",
       "\n",
       "    .dataframe tbody tr th {\n",
       "        vertical-align: top;\n",
       "    }\n",
       "\n",
       "    .dataframe thead th {\n",
       "        text-align: right;\n",
       "    }\n",
       "</style>\n",
       "<table border=\"1\" class=\"dataframe\">\n",
       "  <thead>\n",
       "    <tr style=\"text-align: right;\">\n",
       "      <th></th>\n",
       "      <th>session_id</th>\n",
       "      <th>user_identifier</th>\n",
       "      <th>event_timestamp</th>\n",
       "      <th>event_category_idx_lv1</th>\n",
       "      <th>event_category_idx_lv2</th>\n",
       "      <th>event_category_idx_lv3</th>\n",
       "      <th>event_category_idx_lv4</th>\n",
       "      <th>tobi_timestamp</th>\n",
       "    </tr>\n",
       "  </thead>\n",
       "  <tbody>\n",
       "    <tr>\n",
       "      <th>4134595</th>\n",
       "      <td>6</td>\n",
       "      <td>237376</td>\n",
       "      <td>2020-07-15 08:47:31</td>\n",
       "      <td>1_0</td>\n",
       "      <td>2_3</td>\n",
       "      <td>None</td>\n",
       "      <td>None</td>\n",
       "      <td>4445182.0</td>\n",
       "    </tr>\n",
       "    <tr>\n",
       "      <th>4134594</th>\n",
       "      <td>6</td>\n",
       "      <td>237376</td>\n",
       "      <td>2020-07-15 20:08:52</td>\n",
       "      <td>1_0</td>\n",
       "      <td>2_2</td>\n",
       "      <td>None</td>\n",
       "      <td>None</td>\n",
       "      <td>4445182.0</td>\n",
       "    </tr>\n",
       "    <tr>\n",
       "      <th>4134593</th>\n",
       "      <td>6</td>\n",
       "      <td>237376</td>\n",
       "      <td>2020-07-15 20:09:20</td>\n",
       "      <td>1_0</td>\n",
       "      <td>2_4</td>\n",
       "      <td>None</td>\n",
       "      <td>None</td>\n",
       "      <td>4445182.0</td>\n",
       "    </tr>\n",
       "    <tr>\n",
       "      <th>4134592</th>\n",
       "      <td>6</td>\n",
       "      <td>237376</td>\n",
       "      <td>2020-07-15 20:09:31</td>\n",
       "      <td>1_0</td>\n",
       "      <td>2_4</td>\n",
       "      <td>None</td>\n",
       "      <td>None</td>\n",
       "      <td>4445182.0</td>\n",
       "    </tr>\n",
       "    <tr>\n",
       "      <th>4134591</th>\n",
       "      <td>6</td>\n",
       "      <td>237376</td>\n",
       "      <td>2020-07-15 20:10:15</td>\n",
       "      <td>1_0</td>\n",
       "      <td>2_3</td>\n",
       "      <td>None</td>\n",
       "      <td>None</td>\n",
       "      <td>4445182.0</td>\n",
       "    </tr>\n",
       "    <tr>\n",
       "      <th>...</th>\n",
       "      <td>...</td>\n",
       "      <td>...</td>\n",
       "      <td>...</td>\n",
       "      <td>...</td>\n",
       "      <td>...</td>\n",
       "      <td>...</td>\n",
       "      <td>...</td>\n",
       "      <td>...</td>\n",
       "    </tr>\n",
       "    <tr>\n",
       "      <th>2883978</th>\n",
       "      <td>1606201</td>\n",
       "      <td>97349</td>\n",
       "      <td>2020-09-23 17:51:40</td>\n",
       "      <td>1_4</td>\n",
       "      <td>2_9</td>\n",
       "      <td>3_5</td>\n",
       "      <td>None</td>\n",
       "      <td>9890853.0</td>\n",
       "    </tr>\n",
       "    <tr>\n",
       "      <th>5532706</th>\n",
       "      <td>1606217</td>\n",
       "      <td>701497</td>\n",
       "      <td>2020-06-18 11:25:00</td>\n",
       "      <td>1_3</td>\n",
       "      <td>2_6</td>\n",
       "      <td>None</td>\n",
       "      <td>None</td>\n",
       "      <td>1540260.0</td>\n",
       "    </tr>\n",
       "    <tr>\n",
       "      <th>5676991</th>\n",
       "      <td>1606224</td>\n",
       "      <td>871126</td>\n",
       "      <td>2020-06-01 00:00:00</td>\n",
       "      <td>1_2</td>\n",
       "      <td>2_1</td>\n",
       "      <td>3_2</td>\n",
       "      <td>None</td>\n",
       "      <td>123330.0</td>\n",
       "    </tr>\n",
       "    <tr>\n",
       "      <th>1431141</th>\n",
       "      <td>1606226</td>\n",
       "      <td>25526</td>\n",
       "      <td>2020-06-04 13:24:00</td>\n",
       "      <td>1_1</td>\n",
       "      <td>2_0</td>\n",
       "      <td>3_0</td>\n",
       "      <td>None</td>\n",
       "      <td>323692.0</td>\n",
       "    </tr>\n",
       "    <tr>\n",
       "      <th>5668409</th>\n",
       "      <td>1606227</td>\n",
       "      <td>846547</td>\n",
       "      <td>2020-06-17 00:00:00</td>\n",
       "      <td>1_2</td>\n",
       "      <td>2_14</td>\n",
       "      <td>3_4</td>\n",
       "      <td>None</td>\n",
       "      <td>2483548.0</td>\n",
       "    </tr>\n",
       "  </tbody>\n",
       "</table>\n",
       "<p>5329225 rows × 8 columns</p>\n",
       "</div>"
      ],
      "text/plain": [
       "         session_id  user_identifier  ... event_category_idx_lv4 tobi_timestamp\n",
       "4134595           6           237376  ...                   None      4445182.0\n",
       "4134594           6           237376  ...                   None      4445182.0\n",
       "4134593           6           237376  ...                   None      4445182.0\n",
       "4134592           6           237376  ...                   None      4445182.0\n",
       "4134591           6           237376  ...                   None      4445182.0\n",
       "...             ...              ...  ...                    ...            ...\n",
       "2883978     1606201            97349  ...                   None      9890853.0\n",
       "5532706     1606217           701497  ...                   None      1540260.0\n",
       "5676991     1606224           871126  ...                   None       123330.0\n",
       "1431141     1606226            25526  ...                   None       323692.0\n",
       "5668409     1606227           846547  ...                   None      2483548.0\n",
       "\n",
       "[5329225 rows x 8 columns]"
      ]
     },
     "execution_count": 22,
     "metadata": {
      "tags": []
     },
     "output_type": "execute_result"
    }
   ],
   "source": [
    "data"
   ]
  },
  {
   "cell_type": "code",
   "execution_count": null,
   "metadata": {
    "id": "nZweNAEeIO0t"
   },
   "outputs": [],
   "source": [
    "filt = data['event_category_idx_lv2'].apply(lambda s: s.isnumeric() if isinstance(s, str) else False)\n",
    "to_drop = data[filt]"
   ]
  },
  {
   "cell_type": "code",
   "execution_count": null,
   "metadata": {
    "id": "U9mb69Z6IO0u"
   },
   "outputs": [],
   "source": [
    "data.drop(index=to_drop.index, inplace=True)"
   ]
  },
  {
   "cell_type": "code",
   "execution_count": null,
   "metadata": {
    "id": "DNQIyZqyMl-H"
   },
   "outputs": [],
   "source": [
    "grouped_by_idx = data.groupby(['event_category_idx_lv2', 'event_category_idx_lv3'])['event_category_idx_lv4'].unique().apply(lambda s: s[0] if s[0] == None else s).dropna()"
   ]
  },
  {
   "cell_type": "code",
   "execution_count": null,
   "metadata": {
    "id": "fuYL8T4CMKBQ"
   },
   "outputs": [],
   "source": [
    "len_grouped_by_idx = grouped_by_idx.apply(lambda s: len(s))\n",
    "drop_4th = []\n",
    "for i in len_grouped_by_idx.index:\n",
    "    if len_grouped_by_idx[i] == 1:\n",
    "        drop_4th.append(i)\n",
    "drop_4th = np.array(drop_4th)"
   ]
  },
  {
   "cell_type": "code",
   "execution_count": null,
   "metadata": {
    "id": "-rUR44g5MPsw"
   },
   "outputs": [],
   "source": [
    "drop_3rd_and_4th = []\n",
    "for i, j in drop_4th:\n",
    "    if len(len_grouped_by_idx[i]) == 1:\n",
    "        drop_3rd_and_4th.append(i)"
   ]
  },
  {
   "cell_type": "code",
   "execution_count": null,
   "metadata": {
    "id": "bfl6CBN-MYbq"
   },
   "outputs": [],
   "source": [
    "filt = data['event_category_idx_lv2'].isin(drop_3rd_and_4th)\n",
    "data.loc[filt, ['event_category_idx_lv3', 'event_category_idx_lv4']] = None"
   ]
  },
  {
   "cell_type": "code",
   "execution_count": null,
   "metadata": {
    "id": "O-l81TIbMZO0"
   },
   "outputs": [],
   "source": [
    "filt = (data['event_category_idx_lv2'].isin(drop_4th[:,0])) & (data['event_category_idx_lv3'].isin(drop_4th[:,1]))\n",
    "data.loc[filt, 'event_category_idx_lv4'] = None"
   ]
  },
  {
   "cell_type": "code",
   "execution_count": null,
   "metadata": {
    "id": "JWiNXexlIO0u"
   },
   "outputs": [],
   "source": [
    "baseline_date = pd.Timestamp(year=2020, month=4, day=14)"
   ]
  },
  {
   "cell_type": "code",
   "execution_count": null,
   "metadata": {
    "id": "fXoL4gMBIO0v"
   },
   "outputs": [],
   "source": [
    "data['event_timestamp'] = (data['event_timestamp'] - baseline_date).apply(lambda ts: ts.delta) * 1e-9 "
   ]
  },
  {
   "cell_type": "code",
   "execution_count": null,
   "metadata": {
    "id": "4yrYb9KC-Y40"
   },
   "outputs": [],
   "source": [
    "event_categories = ['event_category_idx_lv1', 'event_category_idx_lv2', 'event_category_idx_lv3', 'event_category_idx_lv4']\n",
    "def filt(s):\n",
    "    if isinstance(s, str):\n",
    "        return s if s.isnumeric() else s[2:]\n",
    "    return -1\n",
    "for col in event_categories:\n",
    "    data[col] = data[col].apply(filt)"
   ]
  },
  {
   "cell_type": "code",
   "execution_count": null,
   "metadata": {
    "colab": {
     "base_uri": "https://localhost:8080/",
     "height": 439
    },
    "id": "Z8RxypxXIO0v",
    "outputId": "1fde44eb-0097-4416-e03b-d6e9b3c6b7b7"
   },
   "outputs": [
    {
     "data": {
      "text/html": [
       "<div>\n",
       "<style scoped>\n",
       "    .dataframe tbody tr th:only-of-type {\n",
       "        vertical-align: middle;\n",
       "    }\n",
       "\n",
       "    .dataframe tbody tr th {\n",
       "        vertical-align: top;\n",
       "    }\n",
       "\n",
       "    .dataframe thead th {\n",
       "        text-align: right;\n",
       "    }\n",
       "</style>\n",
       "<table border=\"1\" class=\"dataframe\">\n",
       "  <thead>\n",
       "    <tr style=\"text-align: right;\">\n",
       "      <th></th>\n",
       "      <th>session_id</th>\n",
       "      <th>user_identifier</th>\n",
       "      <th>event_timestamp</th>\n",
       "      <th>event_category_idx_lv1</th>\n",
       "      <th>event_category_idx_lv2</th>\n",
       "      <th>event_category_idx_lv3</th>\n",
       "      <th>event_category_idx_lv4</th>\n",
       "      <th>tobi_timestamp</th>\n",
       "    </tr>\n",
       "  </thead>\n",
       "  <tbody>\n",
       "    <tr>\n",
       "      <th>4134595</th>\n",
       "      <td>6</td>\n",
       "      <td>237376</td>\n",
       "      <td>7980451.0</td>\n",
       "      <td>0</td>\n",
       "      <td>3</td>\n",
       "      <td>-1</td>\n",
       "      <td>-1</td>\n",
       "      <td>4445182.0</td>\n",
       "    </tr>\n",
       "    <tr>\n",
       "      <th>4134594</th>\n",
       "      <td>6</td>\n",
       "      <td>237376</td>\n",
       "      <td>8021332.0</td>\n",
       "      <td>0</td>\n",
       "      <td>2</td>\n",
       "      <td>-1</td>\n",
       "      <td>-1</td>\n",
       "      <td>4445182.0</td>\n",
       "    </tr>\n",
       "    <tr>\n",
       "      <th>4134593</th>\n",
       "      <td>6</td>\n",
       "      <td>237376</td>\n",
       "      <td>8021360.0</td>\n",
       "      <td>0</td>\n",
       "      <td>4</td>\n",
       "      <td>-1</td>\n",
       "      <td>-1</td>\n",
       "      <td>4445182.0</td>\n",
       "    </tr>\n",
       "    <tr>\n",
       "      <th>4134592</th>\n",
       "      <td>6</td>\n",
       "      <td>237376</td>\n",
       "      <td>8021371.0</td>\n",
       "      <td>0</td>\n",
       "      <td>4</td>\n",
       "      <td>-1</td>\n",
       "      <td>-1</td>\n",
       "      <td>4445182.0</td>\n",
       "    </tr>\n",
       "    <tr>\n",
       "      <th>4134591</th>\n",
       "      <td>6</td>\n",
       "      <td>237376</td>\n",
       "      <td>8021415.0</td>\n",
       "      <td>0</td>\n",
       "      <td>3</td>\n",
       "      <td>-1</td>\n",
       "      <td>-1</td>\n",
       "      <td>4445182.0</td>\n",
       "    </tr>\n",
       "    <tr>\n",
       "      <th>...</th>\n",
       "      <td>...</td>\n",
       "      <td>...</td>\n",
       "      <td>...</td>\n",
       "      <td>...</td>\n",
       "      <td>...</td>\n",
       "      <td>...</td>\n",
       "      <td>...</td>\n",
       "      <td>...</td>\n",
       "    </tr>\n",
       "    <tr>\n",
       "      <th>2883978</th>\n",
       "      <td>1606201</td>\n",
       "      <td>97349</td>\n",
       "      <td>14061100.0</td>\n",
       "      <td>4</td>\n",
       "      <td>9</td>\n",
       "      <td>5</td>\n",
       "      <td>-1</td>\n",
       "      <td>9890853.0</td>\n",
       "    </tr>\n",
       "    <tr>\n",
       "      <th>5532706</th>\n",
       "      <td>1606217</td>\n",
       "      <td>701497</td>\n",
       "      <td>5657100.0</td>\n",
       "      <td>3</td>\n",
       "      <td>6</td>\n",
       "      <td>-1</td>\n",
       "      <td>-1</td>\n",
       "      <td>1540260.0</td>\n",
       "    </tr>\n",
       "    <tr>\n",
       "      <th>5676991</th>\n",
       "      <td>1606224</td>\n",
       "      <td>871126</td>\n",
       "      <td>4147200.0</td>\n",
       "      <td>2</td>\n",
       "      <td>1</td>\n",
       "      <td>2</td>\n",
       "      <td>-1</td>\n",
       "      <td>123330.0</td>\n",
       "    </tr>\n",
       "    <tr>\n",
       "      <th>1431141</th>\n",
       "      <td>1606226</td>\n",
       "      <td>25526</td>\n",
       "      <td>4454640.0</td>\n",
       "      <td>1</td>\n",
       "      <td>0</td>\n",
       "      <td>0</td>\n",
       "      <td>-1</td>\n",
       "      <td>323692.0</td>\n",
       "    </tr>\n",
       "    <tr>\n",
       "      <th>5668409</th>\n",
       "      <td>1606227</td>\n",
       "      <td>846547</td>\n",
       "      <td>5529600.0</td>\n",
       "      <td>2</td>\n",
       "      <td>14</td>\n",
       "      <td>4</td>\n",
       "      <td>-1</td>\n",
       "      <td>2483548.0</td>\n",
       "    </tr>\n",
       "  </tbody>\n",
       "</table>\n",
       "<p>5329225 rows × 8 columns</p>\n",
       "</div>"
      ],
      "text/plain": [
       "         session_id  user_identifier  ...  event_category_idx_lv4 tobi_timestamp\n",
       "4134595           6           237376  ...                      -1      4445182.0\n",
       "4134594           6           237376  ...                      -1      4445182.0\n",
       "4134593           6           237376  ...                      -1      4445182.0\n",
       "4134592           6           237376  ...                      -1      4445182.0\n",
       "4134591           6           237376  ...                      -1      4445182.0\n",
       "...             ...              ...  ...                     ...            ...\n",
       "2883978     1606201            97349  ...                      -1      9890853.0\n",
       "5532706     1606217           701497  ...                      -1      1540260.0\n",
       "5676991     1606224           871126  ...                      -1       123330.0\n",
       "1431141     1606226            25526  ...                      -1       323692.0\n",
       "5668409     1606227           846547  ...                      -1      2483548.0\n",
       "\n",
       "[5329225 rows x 8 columns]"
      ]
     },
     "execution_count": 26,
     "metadata": {
      "tags": []
     },
     "output_type": "execute_result"
    }
   ],
   "source": [
    "data"
   ]
  },
  {
   "cell_type": "code",
   "execution_count": null,
   "metadata": {
    "id": "juW2A_gVIO0v"
   },
   "outputs": [],
   "source": [
    "training_data = data[data['session_id'].isin(train['session_id'])]"
   ]
  },
  {
   "cell_type": "code",
   "execution_count": null,
   "metadata": {
    "id": "R2p-y1ZwIO0w"
   },
   "outputs": [],
   "source": [
    "testing_data = data[data['session_id'].isin(test['session_id'])]"
   ]
  },
  {
   "cell_type": "code",
   "execution_count": null,
   "metadata": {
    "colab": {
     "base_uri": "https://localhost:8080/"
    },
    "id": "YjZB9hc9IO0w",
    "outputId": "533933d3-4fab-4bff-80d1-33fbaed1fbbb"
   },
   "outputs": [
    {
     "data": {
      "text/plain": [
       "347837"
      ]
     },
     "execution_count": 29,
     "metadata": {
      "tags": []
     },
     "output_type": "execute_result"
    }
   ],
   "source": [
    "n_sequences = data['session_id'].nunique()\n",
    "n_sequences"
   ]
  },
  {
   "cell_type": "code",
   "execution_count": null,
   "metadata": {
    "id": "O-mdPcjWIO0w"
   },
   "outputs": [],
   "source": [
    "def reshape_sequences(dataset, series):\n",
    "    n_sequences = series['session_id'].nunique()\n",
    "    max_length = max(dataset['session_id'].value_counts())\n",
    "    sequences = np.zeros((n_sequences, max_length, 7))\n",
    "    \n",
    "    i = 0\n",
    "    grouped = dataset.groupby('session_id').apply(np.array)\n",
    "    for seq in grouped:\n",
    "        l = len(seq)\n",
    "        sequences[i,:l] = seq[:,1:]\n",
    "        i += 1\n",
    "    return sequences"
   ]
  },
  {
   "cell_type": "code",
   "execution_count": null,
   "metadata": {
    "id": "NOSkKWviym_M"
   },
   "outputs": [],
   "source": [
    "def reshape_sequences(dataset, series):\n",
    "    n_sequences = series['session_id'].nunique()\n",
    "    max_length = max(dataset['session_id'].value_counts())\n",
    "    sequences = -np.ones((n_sequences, max_length+2, 5))\n",
    "    \n",
    "    i = 0\n",
    "    grouped = dataset.groupby('session_id').apply(np.array)\n",
    "    for seq in grouped:\n",
    "        l = len(seq)\n",
    "        sequences[i,0,0] = seq[0,1]\n",
    "        sequences[i,1,0] = seq[0,-1] - minimum_date.loc[seq[0,1], 'tobi_timestamp']\n",
    "        sequences[i,2:l+2] = seq[:,2:-1]\n",
    "        i += 1\n",
    "    return sequences"
   ]
  },
  {
   "cell_type": "code",
   "execution_count": null,
   "metadata": {
    "id": "SrSZ9lqHIO0w"
   },
   "outputs": [],
   "source": [
    "training = reshape_sequences(training_data, train)"
   ]
  },
  {
   "cell_type": "code",
   "execution_count": null,
   "metadata": {
    "id": "-5WWeZ2EIO0x"
   },
   "outputs": [],
   "source": [
    "testing = reshape_sequences(testing_data, test)"
   ]
  },
  {
   "cell_type": "code",
   "execution_count": null,
   "metadata": {
    "id": "24E-9aafIO0x"
   },
   "outputs": [],
   "source": [
    "labels = (train['label'].to_numpy() - 1)  # REMEMBER TO DO +1 ON PREDICTION WHEN SUBMITTING!"
   ]
  },
  {
   "cell_type": "code",
   "execution_count": null,
   "metadata": {
    "id": "Mrsmm3tdIO0x"
   },
   "outputs": [],
   "source": [
    "X_train, X_test_and_val, y_train, y_test_and_val = train_test_split(training, labels, train_size=0.7, random_state=42)\n",
    "X_test, X_val, y_test, y_val = train_test_split(X_test_and_val, y_test_and_val, train_size=0.5, random_state=42)"
   ]
  },
  {
   "cell_type": "code",
   "execution_count": null,
   "metadata": {
    "id": "w9_oFiSUIO0x"
   },
   "outputs": [],
   "source": [
    "scaler = StandardScaler()\n",
    "X_train = scaler.fit_transform(X_train.reshape(-1, X_train.shape[-1])).reshape(X_train.shape)\n",
    "X_test = scaler.transform(X_test.reshape(-1, X_test.shape[-1])).reshape(X_test.shape)\n",
    "X_val = scaler.transform(X_val.reshape(-1, X_val.shape[-1])).reshape(X_val.shape)"
   ]
  },
  {
   "cell_type": "code",
   "execution_count": null,
   "metadata": {
    "colab": {
     "base_uri": "https://localhost:8080/"
    },
    "id": "-PxNdoLM71p8",
    "outputId": "36ff8d0e-fb81-4ee3-c2ff-bb66efdaa156"
   },
   "outputs": [
    {
     "data": {
      "text/plain": [
       "array([ 8.50009556e+04,  4.33559259e+06,  1.17139898e+00,  4.02938765e+00,\n",
       "        7.64291033e-01, -2.28636426e-01,  3.23954514e+06])"
      ]
     },
     "execution_count": 26,
     "metadata": {
      "tags": []
     },
     "output_type": "execute_result"
    }
   ],
   "source": [
    "scaler.mean_"
   ]
  },
  {
   "cell_type": "code",
   "execution_count": null,
   "metadata": {
    "id": "fUymHz9D5Tq6"
   },
   "outputs": [],
   "source": [
    "def build_model(filters=128, kernel_size=3):\n",
    "    model = Sequential()\n",
    "    n_layers = int(np.ceil(np.log2(30 / (kernel_size - 1))))\n",
    "    dilation_schedule = [2**k for k in range(1, n_layers)]\n",
    "\n",
    "    model.add(Conv1D(filters, kernel_size, padding='causal', dilation_rate=1, activation='relu', input_shape=(30, 7)))\n",
    "    for rate in dilation_schedule:\n",
    "        model.add(WeightNormalization(Conv1D(filters, kernel_size, padding='causal', dilation_rate=rate, activation='relu')))\n",
    "        model.add(Dropout(0.3))\n",
    "    model.add(Flatten())\n",
    "    model.add(Dense(64, activation='relu'))\n",
    "    model.add(Dropout(0.3))\n",
    "    model.add(Dense(4, activation='softmax'))\n",
    "\n",
    "    opt = Adam(learning_rate=1e-3, amsgrad=True)\n",
    "    model.compile(\n",
    "        optimizer=opt, loss='sparse_categorical_crossentropy', metrics=['accuracy'])\n",
    "    \n",
    "    return model"
   ]
  },
  {
   "cell_type": "code",
   "execution_count": null,
   "metadata": {
    "id": "CesUHB_gv8hK"
   },
   "outputs": [],
   "source": [
    "def build_model(filters=128, kernel_size=3):\n",
    "    model = Sequential()\n",
    "    n_layers = int(np.ceil(np.log2(30 / (kernel_size - 1))))\n",
    "    dilation_schedule = [2**k for k in range(1, n_layers)]\n",
    "\n",
    "    model.add(GRU(120, return_sequences=True, dropout=0.3))\n",
    "    model.add(Conv1D(filters, kernel_size, padding='causal', dilation_rate=1, activation='relu', input_shape=(30, 7)))\n",
    "    for rate in dilation_schedule:\n",
    "        model.add(WeightNormalization(Conv1D(filters, kernel_size, padding='causal', dilation_rate=rate, activation='relu')))\n",
    "        model.add(Dropout(0.3))\n",
    "    model.add(Flatten())\n",
    "    model.add(Dense(64, activation='relu'))\n",
    "    model.add(Dropout(0.3))\n",
    "    model.add(Dense(4, activation='softmax'))\n",
    "\n",
    "    opt = Adam(learning_rate=1e-3, amsgrad=True)\n",
    "    model.compile(\n",
    "        optimizer=opt, loss='sparse_categorical_crossentropy', metrics=['accuracy'])\n",
    "    \n",
    "    return model"
   ]
  },
  {
   "cell_type": "code",
   "execution_count": null,
   "metadata": {
    "id": "x1aAn6OEP1yH"
   },
   "outputs": [],
   "source": [
    "model = build_model()"
   ]
  },
  {
   "cell_type": "code",
   "execution_count": null,
   "metadata": {
    "id": "vmnKqP5krlGG"
   },
   "outputs": [],
   "source": [
    "model = KerasClassifier(build_model)\n",
    "batch_sizes = [32, 64, 128, 256]\n",
    "epochs = [20, 40, 60]\n",
    "filters = [64, 128, 256, 512]\n",
    "kernel_sizes = [3, 4, 5, 6, 7, 8]\n",
    "param_grid = {'batch_size': batch_sizes, 'epochs': [20]} # 'batch_size': batch_sizes 'filters': filters, 'kernel_size': kernel_sizes}\n",
    "\n",
    "grid = GridSearchCV(model, param_grid=param_grid)\n",
    "grid_result = grid.fit(X_train, y_train)"
   ]
  },
  {
   "cell_type": "code",
   "execution_count": null,
   "metadata": {
    "id": "L6NByZEcbXop"
   },
   "outputs": [],
   "source": [
    "model = grid.best_estimator_"
   ]
  },
  {
   "cell_type": "code",
   "execution_count": null,
   "metadata": {
    "id": "F98IdLn_IO0y",
    "scrolled": true
   },
   "outputs": [],
   "source": [
    "def build_recurrent():\n",
    "    model = Sequential()\n",
    "\n",
    "    model.add(GRU(240, return_sequences=False, dropout=0.1))\n",
    "    model.add(Dense(64, activation='relu'))\n",
    "    model.add(Dropout(0.1))\n",
    "    model.add(Dense(4, activation='softmax'))\n",
    "\n",
    "    opt = Adam(learning_rate=1e-3, amsgrad=True)\n",
    "    model.compile(\n",
    "        optimizer=opt, loss='sparse_categorical_crossentropy', metrics=['accuracy'])\n",
    "    \n",
    "    return model"
   ]
  },
  {
   "cell_type": "code",
   "execution_count": null,
   "metadata": {
    "id": "nxehrojvSWJj"
   },
   "outputs": [],
   "source": [
    "model = build_recurrent()"
   ]
  },
  {
   "cell_type": "code",
   "execution_count": null,
   "metadata": {
    "id": "w36MPAmqIO0y"
   },
   "outputs": [],
   "source": [
    "history = model.fit(X_train, y_train, validation_data=(X_val, y_val), epochs=20, batch_size=64)"
   ]
  },
  {
   "cell_type": "code",
   "execution_count": null,
   "metadata": {
    "colab": {
     "base_uri": "https://localhost:8080/"
    },
    "id": "XcXI4VUUA1OV",
    "outputId": "5f75557d-7744-4414-c32b-a7a123d642a9"
   },
   "outputs": [
    {
     "name": "stdout",
     "output_type": "stream",
     "text": [
      "Model: \"sequential_2\"\n",
      "_________________________________________________________________\n",
      "Layer (type)                 Output Shape              Param #   \n",
      "=================================================================\n",
      "conv1d_10 (Conv1D)           (None, 30, 128)           2816      \n",
      "_________________________________________________________________\n",
      "weight_normalization_8 (Weig (None, 30, 128)           98689     \n",
      "_________________________________________________________________\n",
      "dropout_10 (Dropout)         (None, 30, 128)           0         \n",
      "_________________________________________________________________\n",
      "weight_normalization_9 (Weig (None, 30, 128)           98689     \n",
      "_________________________________________________________________\n",
      "dropout_11 (Dropout)         (None, 30, 128)           0         \n",
      "_________________________________________________________________\n",
      "weight_normalization_10 (Wei (None, 30, 128)           98689     \n",
      "_________________________________________________________________\n",
      "dropout_12 (Dropout)         (None, 30, 128)           0         \n",
      "_________________________________________________________________\n",
      "weight_normalization_11 (Wei (None, 30, 128)           98689     \n",
      "_________________________________________________________________\n",
      "dropout_13 (Dropout)         (None, 30, 128)           0         \n",
      "_________________________________________________________________\n",
      "flatten_2 (Flatten)          (None, 3840)              0         \n",
      "_________________________________________________________________\n",
      "dense_4 (Dense)              (None, 512)               1966592   \n",
      "_________________________________________________________________\n",
      "dropout_14 (Dropout)         (None, 512)               0         \n",
      "_________________________________________________________________\n",
      "dense_5 (Dense)              (None, 64)                32832     \n",
      "_________________________________________________________________\n",
      "dropout_15 (Dropout)         (None, 64)                0         \n",
      "_________________________________________________________________\n",
      "dense_6 (Dense)              (None, 4)                 260       \n",
      "=================================================================\n",
      "Total params: 2,397,256\n",
      "Trainable params: 2,200,132\n",
      "Non-trainable params: 197,124\n",
      "_________________________________________________________________\n"
     ]
    }
   ],
   "source": [
    "model.summary()"
   ]
  },
  {
   "cell_type": "code",
   "execution_count": null,
   "metadata": {
    "colab": {
     "base_uri": "https://localhost:8080/"
    },
    "id": "u24AOFdEIO0y",
    "outputId": "d785c837-af04-41a5-dec5-6d125f434d0c"
   },
   "outputs": [
    {
     "name": "stdout",
     "output_type": "stream",
     "text": [
      "978/978 [==============================] - 11s 4ms/step - loss: 1.1407 - accuracy: 0.5093\n"
     ]
    },
    {
     "data": {
      "text/plain": [
       "[1.1418743133544922, 0.5082339644432068]"
      ]
     },
     "execution_count": 39,
     "metadata": {
      "tags": []
     },
     "output_type": "execute_result"
    }
   ],
   "source": [
    "model.evaluate(X_test, y_test)"
   ]
  },
  {
   "cell_type": "code",
   "execution_count": null,
   "metadata": {
    "id": "hBDdlECaIO0z"
   },
   "outputs": [],
   "source": [
    "model.save_weights('weights_conv1.h5')"
   ]
  },
  {
   "cell_type": "code",
   "execution_count": null,
   "metadata": {
    "id": "yTUv82XSNDWL"
   },
   "outputs": [],
   "source": [
    "model.load_weights('weights_conv1.h5')"
   ]
  },
  {
   "cell_type": "code",
   "execution_count": null,
   "metadata": {
    "colab": {
     "base_uri": "https://localhost:8080/"
    },
    "id": "ifEJ36V9TAT3",
    "outputId": "4da3cbcf-c0d4-47eb-ecb1-d3e8e1d6ef61"
   },
   "outputs": [
    {
     "data": {
      "text/plain": [
       "array([[0.2554901 , 0.34854382, 0.13163275, 0.26433325],\n",
       "       [0.20112702, 0.37006223, 0.18135682, 0.24745393],\n",
       "       [0.2608669 , 0.36554268, 0.27034986, 0.1032406 ],\n",
       "       ...,\n",
       "       [0.09008574, 0.06119197, 0.8190936 , 0.02962869],\n",
       "       [0.42001393, 0.17952359, 0.25247282, 0.14798968],\n",
       "       [0.22441763, 0.27457747, 0.39391667, 0.10708832]], dtype=float32)"
      ]
     },
     "execution_count": 90,
     "metadata": {
      "tags": []
     },
     "output_type": "execute_result"
    }
   ],
   "source": []
  },
  {
   "cell_type": "code",
   "execution_count": null,
   "metadata": {
    "colab": {
     "base_uri": "https://localhost:8080/"
    },
    "id": "x2oNH9wDTFmK",
    "outputId": "457a6f30-55be-4e66-e98d-2115c1de7df9"
   },
   "outputs": [
    {
     "data": {
      "text/plain": [
       "array([[2124, 4989, 1053,  216],\n",
       "       [1100, 9416,  653,  309],\n",
       "       [ 716, 1923, 3105,   78],\n",
       "       [ 567, 3186,  388, 1450]])"
      ]
     },
     "execution_count": 32,
     "metadata": {
      "tags": []
     },
     "output_type": "execute_result"
    }
   ],
   "source": [
    "y_pred = np.argmax(model.predict(X_test), axis=1)\n",
    "confusion_matrix(y_test, y_pred)"
   ]
  },
  {
   "cell_type": "code",
   "execution_count": null,
   "metadata": {
    "colab": {
     "base_uri": "https://localhost:8080/"
    },
    "id": "5tZmv1tZTcd9",
    "outputId": "df91710c-1a53-40c8-e753-a88185e3515d"
   },
   "outputs": [
    {
     "name": "stdout",
     "output_type": "stream",
     "text": [
      "samples from class 0: 0.26656945790125 %\n",
      "samples from class 1: 0.3656312654087085 %\n",
      "samples from class 2: 0.1892597104841572 %\n",
      "samples from class 3: 0.17853956620588432 %\n"
     ]
    }
   ],
   "source": [
    "l = len(labels)\n",
    "for i in range(4):\n",
    "    print(f'samples from class {i}: {np.sum(labels == i) / l} %')"
   ]
  },
  {
   "cell_type": "code",
   "execution_count": null,
   "metadata": {
    "id": "ZU6ysWwYXKYQ"
   },
   "outputs": [],
   "source": [
    "train_pred = model.predict(X_train)\n",
    "val_pred = model.predict(X_val)\n",
    "test_pred = model.predict(X_test)"
   ]
  },
  {
   "cell_type": "code",
   "execution_count": null,
   "metadata": {
    "id": "kHQh2wlDnR0I"
   },
   "outputs": [],
   "source": [
    "def build_stacked(layers=2, neurons=32, dropout=0.2):\n",
    "    model = Sequential()\n",
    "\n",
    "    for layer in range(layers):\n",
    "        model.add(Dense(32, activation='relu'))\n",
    "        model.add(Dropout(0.2))\n",
    "    model.add(Dense(4, activation='softmax'))\n",
    "\n",
    "    opt = Adam(learning_rate=5e-4)\n",
    "    model.compile(\n",
    "        optimizer=opt, loss='sparse_categorical_crossentropy', metrics=['accuracy'])\n",
    "    \n",
    "    return model"
   ]
  },
  {
   "cell_type": "code",
   "execution_count": null,
   "metadata": {
    "id": "kbHcl63Vn5UR"
   },
   "outputs": [],
   "source": [
    "stacked = build_stacked()"
   ]
  },
  {
   "cell_type": "code",
   "execution_count": null,
   "metadata": {
    "id": "U5KAWrEXo83y"
   },
   "outputs": [],
   "source": [
    "stacked.summary()"
   ]
  },
  {
   "cell_type": "code",
   "execution_count": null,
   "metadata": {
    "id": "B2ZZYFhuv_WC"
   },
   "outputs": [],
   "source": [
    "model = KerasClassifier(build_stacked)\n",
    "batch_sizes = [32, 64, 128, 256]\n",
    "layers = [2,3,4,5]\n",
    "param_grid = {'layers': layers, 'epochs': [10]} # 'batch_size': batch_sizes 'filters': filters, 'kernel_size': kernel_sizes}\n",
    "\n",
    "grid = GridSearchCV(model, param_grid=param_grid)\n",
    "grid_result = grid.fit(X_train, y_train)"
   ]
  },
  {
   "cell_type": "code",
   "execution_count": null,
   "metadata": {
    "colab": {
     "base_uri": "https://localhost:8080/",
     "height": 633
    },
    "id": "PniO365Go4Gz",
    "outputId": "4f7afd16-3b78-4d6f-ad89-29ea43aa727c"
   },
   "outputs": [
    {
     "name": "stdout",
     "output_type": "stream",
     "text": [
      "Epoch 1/20\n",
      "1851/1851 [==============================] - 5s 3ms/step - loss: 1.2066 - accuracy: 0.4554 - val_loss: 1.1791 - val_accuracy: 0.4699\n",
      "Epoch 2/20\n",
      "1851/1851 [==============================] - 5s 3ms/step - loss: 1.1042 - accuracy: 0.5208 - val_loss: 1.1824 - val_accuracy: 0.4674\n",
      "Epoch 3/20\n",
      "1851/1851 [==============================] - 5s 3ms/step - loss: 1.1006 - accuracy: 0.5200 - val_loss: 1.1775 - val_accuracy: 0.4702\n",
      "Epoch 4/20\n",
      "1851/1851 [==============================] - 5s 3ms/step - loss: 1.0957 - accuracy: 0.5202 - val_loss: 1.1702 - val_accuracy: 0.4722\n",
      "Epoch 5/20\n",
      "1851/1851 [==============================] - 5s 3ms/step - loss: 1.0951 - accuracy: 0.5212 - val_loss: 1.1753 - val_accuracy: 0.4665\n",
      "Epoch 6/20\n",
      "1851/1851 [==============================] - 5s 3ms/step - loss: 1.0952 - accuracy: 0.5194 - val_loss: 1.1813 - val_accuracy: 0.4649\n",
      "Epoch 7/20\n",
      "1851/1851 [==============================] - 5s 3ms/step - loss: 1.0860 - accuracy: 0.5240 - val_loss: 1.1784 - val_accuracy: 0.4576\n",
      "Epoch 8/20\n",
      " 431/1851 [=====>........................] - ETA: 3s - loss: 1.0931 - accuracy: 0.5252"
     ]
    },
    {
     "ename": "KeyboardInterrupt",
     "evalue": "ignored",
     "output_type": "error",
     "traceback": [
      "\u001b[0;31m---------------------------------------------------------------------------\u001b[0m",
      "\u001b[0;31mKeyboardInterrupt\u001b[0m                         Traceback (most recent call last)",
      "\u001b[0;32m<ipython-input-34-1f64cb06ef9b>\u001b[0m in \u001b[0;36m<module>\u001b[0;34m()\u001b[0m\n\u001b[0;32m----> 1\u001b[0;31m \u001b[0mstacked\u001b[0m\u001b[0;34m.\u001b[0m\u001b[0mfit\u001b[0m\u001b[0;34m(\u001b[0m\u001b[0mX_res\u001b[0m\u001b[0;34m,\u001b[0m \u001b[0my_res\u001b[0m\u001b[0;34m,\u001b[0m \u001b[0mvalidation_data\u001b[0m\u001b[0;34m=\u001b[0m\u001b[0;34m(\u001b[0m\u001b[0mval_pred\u001b[0m\u001b[0;34m,\u001b[0m \u001b[0my_val\u001b[0m\u001b[0;34m)\u001b[0m\u001b[0;34m,\u001b[0m \u001b[0mepochs\u001b[0m\u001b[0;34m=\u001b[0m\u001b[0;36m20\u001b[0m\u001b[0;34m,\u001b[0m \u001b[0mbatch_size\u001b[0m\u001b[0;34m=\u001b[0m\u001b[0;36m64\u001b[0m\u001b[0;34m)\u001b[0m\u001b[0;34m\u001b[0m\u001b[0;34m\u001b[0m\u001b[0m\n\u001b[0m",
      "\u001b[0;32m/usr/local/lib/python3.6/dist-packages/tensorflow/python/keras/engine/training.py\u001b[0m in \u001b[0;36mfit\u001b[0;34m(self, x, y, batch_size, epochs, verbose, callbacks, validation_split, validation_data, shuffle, class_weight, sample_weight, initial_epoch, steps_per_epoch, validation_steps, validation_batch_size, validation_freq, max_queue_size, workers, use_multiprocessing)\u001b[0m\n\u001b[1;32m   1103\u001b[0m               \u001b[0mlogs\u001b[0m \u001b[0;34m=\u001b[0m \u001b[0mtmp_logs\u001b[0m  \u001b[0;31m# No error, now safe to assign to logs.\u001b[0m\u001b[0;34m\u001b[0m\u001b[0;34m\u001b[0m\u001b[0m\n\u001b[1;32m   1104\u001b[0m               \u001b[0mend_step\u001b[0m \u001b[0;34m=\u001b[0m \u001b[0mstep\u001b[0m \u001b[0;34m+\u001b[0m \u001b[0mdata_handler\u001b[0m\u001b[0;34m.\u001b[0m\u001b[0mstep_increment\u001b[0m\u001b[0;34m\u001b[0m\u001b[0;34m\u001b[0m\u001b[0m\n\u001b[0;32m-> 1105\u001b[0;31m               \u001b[0mcallbacks\u001b[0m\u001b[0;34m.\u001b[0m\u001b[0mon_train_batch_end\u001b[0m\u001b[0;34m(\u001b[0m\u001b[0mend_step\u001b[0m\u001b[0;34m,\u001b[0m \u001b[0mlogs\u001b[0m\u001b[0;34m)\u001b[0m\u001b[0;34m\u001b[0m\u001b[0;34m\u001b[0m\u001b[0m\n\u001b[0m\u001b[1;32m   1106\u001b[0m               \u001b[0;32mif\u001b[0m \u001b[0mself\u001b[0m\u001b[0;34m.\u001b[0m\u001b[0mstop_training\u001b[0m\u001b[0;34m:\u001b[0m\u001b[0;34m\u001b[0m\u001b[0;34m\u001b[0m\u001b[0m\n\u001b[1;32m   1107\u001b[0m                 \u001b[0;32mbreak\u001b[0m\u001b[0;34m\u001b[0m\u001b[0;34m\u001b[0m\u001b[0m\n",
      "\u001b[0;32m/usr/local/lib/python3.6/dist-packages/tensorflow/python/keras/callbacks.py\u001b[0m in \u001b[0;36mon_train_batch_end\u001b[0;34m(self, batch, logs)\u001b[0m\n\u001b[1;32m    452\u001b[0m     \"\"\"\n\u001b[1;32m    453\u001b[0m     \u001b[0;32mif\u001b[0m \u001b[0mself\u001b[0m\u001b[0;34m.\u001b[0m\u001b[0m_should_call_train_batch_hooks\u001b[0m\u001b[0;34m:\u001b[0m\u001b[0;34m\u001b[0m\u001b[0;34m\u001b[0m\u001b[0m\n\u001b[0;32m--> 454\u001b[0;31m       \u001b[0mself\u001b[0m\u001b[0;34m.\u001b[0m\u001b[0m_call_batch_hook\u001b[0m\u001b[0;34m(\u001b[0m\u001b[0mModeKeys\u001b[0m\u001b[0;34m.\u001b[0m\u001b[0mTRAIN\u001b[0m\u001b[0;34m,\u001b[0m \u001b[0;34m'end'\u001b[0m\u001b[0;34m,\u001b[0m \u001b[0mbatch\u001b[0m\u001b[0;34m,\u001b[0m \u001b[0mlogs\u001b[0m\u001b[0;34m=\u001b[0m\u001b[0mlogs\u001b[0m\u001b[0;34m)\u001b[0m\u001b[0;34m\u001b[0m\u001b[0;34m\u001b[0m\u001b[0m\n\u001b[0m\u001b[1;32m    455\u001b[0m \u001b[0;34m\u001b[0m\u001b[0m\n\u001b[1;32m    456\u001b[0m   \u001b[0;32mdef\u001b[0m \u001b[0mon_test_batch_begin\u001b[0m\u001b[0;34m(\u001b[0m\u001b[0mself\u001b[0m\u001b[0;34m,\u001b[0m \u001b[0mbatch\u001b[0m\u001b[0;34m,\u001b[0m \u001b[0mlogs\u001b[0m\u001b[0;34m=\u001b[0m\u001b[0;32mNone\u001b[0m\u001b[0;34m)\u001b[0m\u001b[0;34m:\u001b[0m\u001b[0;34m\u001b[0m\u001b[0;34m\u001b[0m\u001b[0m\n",
      "\u001b[0;32m/usr/local/lib/python3.6/dist-packages/tensorflow/python/keras/callbacks.py\u001b[0m in \u001b[0;36m_call_batch_hook\u001b[0;34m(self, mode, hook, batch, logs)\u001b[0m\n\u001b[1;32m    294\u001b[0m       \u001b[0mself\u001b[0m\u001b[0;34m.\u001b[0m\u001b[0m_call_batch_begin_hook\u001b[0m\u001b[0;34m(\u001b[0m\u001b[0mmode\u001b[0m\u001b[0;34m,\u001b[0m \u001b[0mbatch\u001b[0m\u001b[0;34m,\u001b[0m \u001b[0mlogs\u001b[0m\u001b[0;34m)\u001b[0m\u001b[0;34m\u001b[0m\u001b[0;34m\u001b[0m\u001b[0m\n\u001b[1;32m    295\u001b[0m     \u001b[0;32melif\u001b[0m \u001b[0mhook\u001b[0m \u001b[0;34m==\u001b[0m \u001b[0;34m'end'\u001b[0m\u001b[0;34m:\u001b[0m\u001b[0;34m\u001b[0m\u001b[0;34m\u001b[0m\u001b[0m\n\u001b[0;32m--> 296\u001b[0;31m       \u001b[0mself\u001b[0m\u001b[0;34m.\u001b[0m\u001b[0m_call_batch_end_hook\u001b[0m\u001b[0;34m(\u001b[0m\u001b[0mmode\u001b[0m\u001b[0;34m,\u001b[0m \u001b[0mbatch\u001b[0m\u001b[0;34m,\u001b[0m \u001b[0mlogs\u001b[0m\u001b[0;34m)\u001b[0m\u001b[0;34m\u001b[0m\u001b[0;34m\u001b[0m\u001b[0m\n\u001b[0m\u001b[1;32m    297\u001b[0m     \u001b[0;32melse\u001b[0m\u001b[0;34m:\u001b[0m\u001b[0;34m\u001b[0m\u001b[0;34m\u001b[0m\u001b[0m\n\u001b[1;32m    298\u001b[0m       \u001b[0;32mraise\u001b[0m \u001b[0mValueError\u001b[0m\u001b[0;34m(\u001b[0m\u001b[0;34m'Unrecognized hook: {}'\u001b[0m\u001b[0;34m.\u001b[0m\u001b[0mformat\u001b[0m\u001b[0;34m(\u001b[0m\u001b[0mhook\u001b[0m\u001b[0;34m)\u001b[0m\u001b[0;34m)\u001b[0m\u001b[0;34m\u001b[0m\u001b[0;34m\u001b[0m\u001b[0m\n",
      "\u001b[0;32m/usr/local/lib/python3.6/dist-packages/tensorflow/python/keras/callbacks.py\u001b[0m in \u001b[0;36m_call_batch_end_hook\u001b[0;34m(self, mode, batch, logs)\u001b[0m\n\u001b[1;32m    314\u001b[0m       \u001b[0mself\u001b[0m\u001b[0;34m.\u001b[0m\u001b[0m_batch_times\u001b[0m\u001b[0;34m.\u001b[0m\u001b[0mappend\u001b[0m\u001b[0;34m(\u001b[0m\u001b[0mbatch_time\u001b[0m\u001b[0;34m)\u001b[0m\u001b[0;34m\u001b[0m\u001b[0;34m\u001b[0m\u001b[0m\n\u001b[1;32m    315\u001b[0m \u001b[0;34m\u001b[0m\u001b[0m\n\u001b[0;32m--> 316\u001b[0;31m     \u001b[0mself\u001b[0m\u001b[0;34m.\u001b[0m\u001b[0m_call_batch_hook_helper\u001b[0m\u001b[0;34m(\u001b[0m\u001b[0mhook_name\u001b[0m\u001b[0;34m,\u001b[0m \u001b[0mbatch\u001b[0m\u001b[0;34m,\u001b[0m \u001b[0mlogs\u001b[0m\u001b[0;34m)\u001b[0m\u001b[0;34m\u001b[0m\u001b[0;34m\u001b[0m\u001b[0m\n\u001b[0m\u001b[1;32m    317\u001b[0m \u001b[0;34m\u001b[0m\u001b[0m\n\u001b[1;32m    318\u001b[0m     \u001b[0;32mif\u001b[0m \u001b[0mlen\u001b[0m\u001b[0;34m(\u001b[0m\u001b[0mself\u001b[0m\u001b[0;34m.\u001b[0m\u001b[0m_batch_times\u001b[0m\u001b[0;34m)\u001b[0m \u001b[0;34m>=\u001b[0m \u001b[0mself\u001b[0m\u001b[0;34m.\u001b[0m\u001b[0m_num_batches_for_timing_check\u001b[0m\u001b[0;34m:\u001b[0m\u001b[0;34m\u001b[0m\u001b[0;34m\u001b[0m\u001b[0m\n",
      "\u001b[0;32m/usr/local/lib/python3.6/dist-packages/tensorflow/python/keras/callbacks.py\u001b[0m in \u001b[0;36m_call_batch_hook_helper\u001b[0;34m(self, hook_name, batch, logs)\u001b[0m\n\u001b[1;32m    354\u001b[0m       \u001b[0mhook\u001b[0m \u001b[0;34m=\u001b[0m \u001b[0mgetattr\u001b[0m\u001b[0;34m(\u001b[0m\u001b[0mcallback\u001b[0m\u001b[0;34m,\u001b[0m \u001b[0mhook_name\u001b[0m\u001b[0;34m)\u001b[0m\u001b[0;34m\u001b[0m\u001b[0;34m\u001b[0m\u001b[0m\n\u001b[1;32m    355\u001b[0m       \u001b[0;32mif\u001b[0m \u001b[0mgetattr\u001b[0m\u001b[0;34m(\u001b[0m\u001b[0mcallback\u001b[0m\u001b[0;34m,\u001b[0m \u001b[0;34m'_supports_tf_logs'\u001b[0m\u001b[0;34m,\u001b[0m \u001b[0;32mFalse\u001b[0m\u001b[0;34m)\u001b[0m\u001b[0;34m:\u001b[0m\u001b[0;34m\u001b[0m\u001b[0;34m\u001b[0m\u001b[0m\n\u001b[0;32m--> 356\u001b[0;31m         \u001b[0mhook\u001b[0m\u001b[0;34m(\u001b[0m\u001b[0mbatch\u001b[0m\u001b[0;34m,\u001b[0m \u001b[0mlogs\u001b[0m\u001b[0;34m)\u001b[0m\u001b[0;34m\u001b[0m\u001b[0;34m\u001b[0m\u001b[0m\n\u001b[0m\u001b[1;32m    357\u001b[0m       \u001b[0;32melse\u001b[0m\u001b[0;34m:\u001b[0m\u001b[0;34m\u001b[0m\u001b[0;34m\u001b[0m\u001b[0m\n\u001b[1;32m    358\u001b[0m         \u001b[0;32mif\u001b[0m \u001b[0mnumpy_logs\u001b[0m \u001b[0;32mis\u001b[0m \u001b[0;32mNone\u001b[0m\u001b[0;34m:\u001b[0m  \u001b[0;31m# Only convert once.\u001b[0m\u001b[0;34m\u001b[0m\u001b[0;34m\u001b[0m\u001b[0m\n",
      "\u001b[0;32m/usr/local/lib/python3.6/dist-packages/tensorflow/python/keras/callbacks.py\u001b[0m in \u001b[0;36mon_train_batch_end\u001b[0;34m(self, batch, logs)\u001b[0m\n\u001b[1;32m   1018\u001b[0m \u001b[0;34m\u001b[0m\u001b[0m\n\u001b[1;32m   1019\u001b[0m   \u001b[0;32mdef\u001b[0m \u001b[0mon_train_batch_end\u001b[0m\u001b[0;34m(\u001b[0m\u001b[0mself\u001b[0m\u001b[0;34m,\u001b[0m \u001b[0mbatch\u001b[0m\u001b[0;34m,\u001b[0m \u001b[0mlogs\u001b[0m\u001b[0;34m=\u001b[0m\u001b[0;32mNone\u001b[0m\u001b[0;34m)\u001b[0m\u001b[0;34m:\u001b[0m\u001b[0;34m\u001b[0m\u001b[0;34m\u001b[0m\u001b[0m\n\u001b[0;32m-> 1020\u001b[0;31m     \u001b[0mself\u001b[0m\u001b[0;34m.\u001b[0m\u001b[0m_batch_update_progbar\u001b[0m\u001b[0;34m(\u001b[0m\u001b[0mbatch\u001b[0m\u001b[0;34m,\u001b[0m \u001b[0mlogs\u001b[0m\u001b[0;34m)\u001b[0m\u001b[0;34m\u001b[0m\u001b[0;34m\u001b[0m\u001b[0m\n\u001b[0m\u001b[1;32m   1021\u001b[0m \u001b[0;34m\u001b[0m\u001b[0m\n\u001b[1;32m   1022\u001b[0m   \u001b[0;32mdef\u001b[0m \u001b[0mon_test_batch_end\u001b[0m\u001b[0;34m(\u001b[0m\u001b[0mself\u001b[0m\u001b[0;34m,\u001b[0m \u001b[0mbatch\u001b[0m\u001b[0;34m,\u001b[0m \u001b[0mlogs\u001b[0m\u001b[0;34m=\u001b[0m\u001b[0;32mNone\u001b[0m\u001b[0;34m)\u001b[0m\u001b[0;34m:\u001b[0m\u001b[0;34m\u001b[0m\u001b[0;34m\u001b[0m\u001b[0m\n",
      "\u001b[0;32m/usr/local/lib/python3.6/dist-packages/tensorflow/python/keras/callbacks.py\u001b[0m in \u001b[0;36m_batch_update_progbar\u001b[0;34m(self, batch, logs)\u001b[0m\n\u001b[1;32m   1082\u001b[0m     \u001b[0;32mif\u001b[0m \u001b[0mself\u001b[0m\u001b[0;34m.\u001b[0m\u001b[0mverbose\u001b[0m \u001b[0;34m==\u001b[0m \u001b[0;36m1\u001b[0m\u001b[0;34m:\u001b[0m\u001b[0;34m\u001b[0m\u001b[0;34m\u001b[0m\u001b[0m\n\u001b[1;32m   1083\u001b[0m       \u001b[0;31m# Only block async when verbose = 1.\u001b[0m\u001b[0;34m\u001b[0m\u001b[0;34m\u001b[0m\u001b[0;34m\u001b[0m\u001b[0m\n\u001b[0;32m-> 1084\u001b[0;31m       \u001b[0mlogs\u001b[0m \u001b[0;34m=\u001b[0m \u001b[0mtf_utils\u001b[0m\u001b[0;34m.\u001b[0m\u001b[0mto_numpy_or_python_type\u001b[0m\u001b[0;34m(\u001b[0m\u001b[0mlogs\u001b[0m\u001b[0;34m)\u001b[0m\u001b[0;34m\u001b[0m\u001b[0;34m\u001b[0m\u001b[0m\n\u001b[0m\u001b[1;32m   1085\u001b[0m       \u001b[0mself\u001b[0m\u001b[0;34m.\u001b[0m\u001b[0mprogbar\u001b[0m\u001b[0;34m.\u001b[0m\u001b[0mupdate\u001b[0m\u001b[0;34m(\u001b[0m\u001b[0mself\u001b[0m\u001b[0;34m.\u001b[0m\u001b[0mseen\u001b[0m\u001b[0;34m,\u001b[0m \u001b[0mlist\u001b[0m\u001b[0;34m(\u001b[0m\u001b[0mlogs\u001b[0m\u001b[0;34m.\u001b[0m\u001b[0mitems\u001b[0m\u001b[0;34m(\u001b[0m\u001b[0;34m)\u001b[0m\u001b[0;34m)\u001b[0m\u001b[0;34m,\u001b[0m \u001b[0mfinalize\u001b[0m\u001b[0;34m=\u001b[0m\u001b[0;32mFalse\u001b[0m\u001b[0;34m)\u001b[0m\u001b[0;34m\u001b[0m\u001b[0;34m\u001b[0m\u001b[0m\n\u001b[1;32m   1086\u001b[0m \u001b[0;34m\u001b[0m\u001b[0m\n",
      "\u001b[0;32m/usr/local/lib/python3.6/dist-packages/tensorflow/python/keras/utils/tf_utils.py\u001b[0m in \u001b[0;36mto_numpy_or_python_type\u001b[0;34m(tensors)\u001b[0m\n\u001b[1;32m    512\u001b[0m     \u001b[0;32mreturn\u001b[0m \u001b[0mt\u001b[0m  \u001b[0;31m# Don't turn ragged or sparse tensors to NumPy.\u001b[0m\u001b[0;34m\u001b[0m\u001b[0;34m\u001b[0m\u001b[0m\n\u001b[1;32m    513\u001b[0m \u001b[0;34m\u001b[0m\u001b[0m\n\u001b[0;32m--> 514\u001b[0;31m   \u001b[0;32mreturn\u001b[0m \u001b[0mnest\u001b[0m\u001b[0;34m.\u001b[0m\u001b[0mmap_structure\u001b[0m\u001b[0;34m(\u001b[0m\u001b[0m_to_single_numpy_or_python_type\u001b[0m\u001b[0;34m,\u001b[0m \u001b[0mtensors\u001b[0m\u001b[0;34m)\u001b[0m\u001b[0;34m\u001b[0m\u001b[0;34m\u001b[0m\u001b[0m\n\u001b[0m\u001b[1;32m    515\u001b[0m \u001b[0;34m\u001b[0m\u001b[0m\n\u001b[1;32m    516\u001b[0m \u001b[0;34m\u001b[0m\u001b[0m\n",
      "\u001b[0;32m/usr/local/lib/python3.6/dist-packages/tensorflow/python/util/nest.py\u001b[0m in \u001b[0;36mmap_structure\u001b[0;34m(func, *structure, **kwargs)\u001b[0m\n\u001b[1;32m    657\u001b[0m \u001b[0;34m\u001b[0m\u001b[0m\n\u001b[1;32m    658\u001b[0m   return pack_sequence_as(\n\u001b[0;32m--> 659\u001b[0;31m       \u001b[0mstructure\u001b[0m\u001b[0;34m[\u001b[0m\u001b[0;36m0\u001b[0m\u001b[0;34m]\u001b[0m\u001b[0;34m,\u001b[0m \u001b[0;34m[\u001b[0m\u001b[0mfunc\u001b[0m\u001b[0;34m(\u001b[0m\u001b[0;34m*\u001b[0m\u001b[0mx\u001b[0m\u001b[0;34m)\u001b[0m \u001b[0;32mfor\u001b[0m \u001b[0mx\u001b[0m \u001b[0;32min\u001b[0m \u001b[0mentries\u001b[0m\u001b[0;34m]\u001b[0m\u001b[0;34m,\u001b[0m\u001b[0;34m\u001b[0m\u001b[0;34m\u001b[0m\u001b[0m\n\u001b[0m\u001b[1;32m    660\u001b[0m       expand_composites=expand_composites)\n\u001b[1;32m    661\u001b[0m \u001b[0;34m\u001b[0m\u001b[0m\n",
      "\u001b[0;32m/usr/local/lib/python3.6/dist-packages/tensorflow/python/util/nest.py\u001b[0m in \u001b[0;36m<listcomp>\u001b[0;34m(.0)\u001b[0m\n\u001b[1;32m    657\u001b[0m \u001b[0;34m\u001b[0m\u001b[0m\n\u001b[1;32m    658\u001b[0m   return pack_sequence_as(\n\u001b[0;32m--> 659\u001b[0;31m       \u001b[0mstructure\u001b[0m\u001b[0;34m[\u001b[0m\u001b[0;36m0\u001b[0m\u001b[0;34m]\u001b[0m\u001b[0;34m,\u001b[0m \u001b[0;34m[\u001b[0m\u001b[0mfunc\u001b[0m\u001b[0;34m(\u001b[0m\u001b[0;34m*\u001b[0m\u001b[0mx\u001b[0m\u001b[0;34m)\u001b[0m \u001b[0;32mfor\u001b[0m \u001b[0mx\u001b[0m \u001b[0;32min\u001b[0m \u001b[0mentries\u001b[0m\u001b[0;34m]\u001b[0m\u001b[0;34m,\u001b[0m\u001b[0;34m\u001b[0m\u001b[0;34m\u001b[0m\u001b[0m\n\u001b[0m\u001b[1;32m    660\u001b[0m       expand_composites=expand_composites)\n\u001b[1;32m    661\u001b[0m \u001b[0;34m\u001b[0m\u001b[0m\n",
      "\u001b[0;32m/usr/local/lib/python3.6/dist-packages/tensorflow/python/keras/utils/tf_utils.py\u001b[0m in \u001b[0;36m_to_single_numpy_or_python_type\u001b[0;34m(t)\u001b[0m\n\u001b[1;32m    509\u001b[0m     \u001b[0;32mif\u001b[0m \u001b[0misinstance\u001b[0m\u001b[0;34m(\u001b[0m\u001b[0mt\u001b[0m\u001b[0;34m,\u001b[0m \u001b[0mops\u001b[0m\u001b[0;34m.\u001b[0m\u001b[0mTensor\u001b[0m\u001b[0;34m)\u001b[0m\u001b[0;34m:\u001b[0m\u001b[0;34m\u001b[0m\u001b[0;34m\u001b[0m\u001b[0m\n\u001b[1;32m    510\u001b[0m       \u001b[0mx\u001b[0m \u001b[0;34m=\u001b[0m \u001b[0mt\u001b[0m\u001b[0;34m.\u001b[0m\u001b[0mnumpy\u001b[0m\u001b[0;34m(\u001b[0m\u001b[0;34m)\u001b[0m\u001b[0;34m\u001b[0m\u001b[0;34m\u001b[0m\u001b[0m\n\u001b[0;32m--> 511\u001b[0;31m       \u001b[0;32mreturn\u001b[0m \u001b[0mx\u001b[0m\u001b[0;34m.\u001b[0m\u001b[0mitem\u001b[0m\u001b[0;34m(\u001b[0m\u001b[0;34m)\u001b[0m \u001b[0;32mif\u001b[0m \u001b[0mnp\u001b[0m\u001b[0;34m.\u001b[0m\u001b[0mndim\u001b[0m\u001b[0;34m(\u001b[0m\u001b[0mx\u001b[0m\u001b[0;34m)\u001b[0m \u001b[0;34m==\u001b[0m \u001b[0;36m0\u001b[0m \u001b[0;32melse\u001b[0m \u001b[0mx\u001b[0m\u001b[0;34m\u001b[0m\u001b[0;34m\u001b[0m\u001b[0m\n\u001b[0m\u001b[1;32m    512\u001b[0m     \u001b[0;32mreturn\u001b[0m \u001b[0mt\u001b[0m  \u001b[0;31m# Don't turn ragged or sparse tensors to NumPy.\u001b[0m\u001b[0;34m\u001b[0m\u001b[0;34m\u001b[0m\u001b[0m\n\u001b[1;32m    513\u001b[0m \u001b[0;34m\u001b[0m\u001b[0m\n",
      "\u001b[0;32m<__array_function__ internals>\u001b[0m in \u001b[0;36mndim\u001b[0;34m(*args, **kwargs)\u001b[0m\n",
      "\u001b[0;32m/usr/local/lib/python3.6/dist-packages/numpy/core/fromnumeric.py\u001b[0m in \u001b[0;36mndim\u001b[0;34m(a)\u001b[0m\n\u001b[1;32m   3073\u001b[0m \u001b[0;34m\u001b[0m\u001b[0m\n\u001b[1;32m   3074\u001b[0m \u001b[0;34m\u001b[0m\u001b[0m\n\u001b[0;32m-> 3075\u001b[0;31m \u001b[0;34m@\u001b[0m\u001b[0marray_function_dispatch\u001b[0m\u001b[0;34m(\u001b[0m\u001b[0m_ndim_dispatcher\u001b[0m\u001b[0;34m)\u001b[0m\u001b[0;34m\u001b[0m\u001b[0;34m\u001b[0m\u001b[0m\n\u001b[0m\u001b[1;32m   3076\u001b[0m \u001b[0;32mdef\u001b[0m \u001b[0mndim\u001b[0m\u001b[0;34m(\u001b[0m\u001b[0ma\u001b[0m\u001b[0;34m)\u001b[0m\u001b[0;34m:\u001b[0m\u001b[0;34m\u001b[0m\u001b[0;34m\u001b[0m\u001b[0m\n\u001b[1;32m   3077\u001b[0m     \"\"\"\n",
      "\u001b[0;31mKeyboardInterrupt\u001b[0m: "
     ]
    }
   ],
   "source": [
    "stacked.fit(train_pred, y_train, validation_data=(val_pred, y_val), epochs=20, batch_size=64)"
   ]
  },
  {
   "cell_type": "code",
   "execution_count": null,
   "metadata": {
    "id": "q9Ss3mPtpOoL"
   },
   "outputs": [],
   "source": []
  }
 ],
 "metadata": {
  "accelerator": "GPU",
  "colab": {
   "collapsed_sections": [],
   "name": "vodafone_challenge.ipynb",
   "provenance": []
  },
  "kernelspec": {
   "display_name": "Python 3",
   "language": "python",
   "name": "python3"
  },
  "language_info": {
   "codemirror_mode": {
    "name": "ipython",
    "version": 3
   },
   "file_extension": ".py",
   "mimetype": "text/x-python",
   "name": "python",
   "nbconvert_exporter": "python",
   "pygments_lexer": "ipython3",
   "version": "3.7.9"
  }
 },
 "nbformat": 4,
 "nbformat_minor": 1
}

{
 "cells": [
  {
   "cell_type": "code",
   "execution_count": null,
   "metadata": {
    "colab": {
     "base_uri": "https://localhost:8080/"
    },
    "id": "-Nat-pV-vby5",
    "outputId": "3b9a7757-d566-4f4c-c2fb-72b72608687b"
   },
   "outputs": [
    {
     "name": "stdout",
     "output_type": "stream",
     "text": [
      "Requirement already satisfied: tensorflow_addons in /usr/local/lib/python3.6/dist-packages (0.12.1)\n",
      "Requirement already satisfied: typeguard>=2.7 in /usr/local/lib/python3.6/dist-packages (from tensorflow_addons) (2.7.1)\n"
     ]
    }
   ],
   "source": [
    "!pip install tensorflow_addons"
   ]
  },
  {
   "cell_type": "code",
   "execution_count": 1,
   "metadata": {
    "id": "vUCJK1mWIO0m"
   },
   "outputs": [],
   "source": [
    "import pandas as pd\n",
    "import numpy as np\n",
    "from sklearn.model_selection import train_test_split, GridSearchCV\n",
    "from sklearn.preprocessing import StandardScaler, MinMaxScaler, LabelEncoder\n",
    "from sklearn.metrics import confusion_matrix\n",
    "from tensorflow.keras.models import Sequential\n",
    "from tensorflow.keras.layers import  Dense, Dropout, Conv1D, Flatten, GRU, MaxPooling1D, InputLayer, LeakyReLU, Embedding, Input\n",
    "from tensorflow_addons.layers import WeightNormalization\n",
    "from tensorflow.keras.wrappers.scikit_learn import KerasClassifier\n",
    "from tensorflow.keras.optimizers import Adam"
   ]
  },
  {
   "cell_type": "code",
   "execution_count": 5,
   "metadata": {
    "colab": {
     "base_uri": "https://localhost:8080/"
    },
    "id": "9faTFWj1ITkO",
    "outputId": "9f4d48bd-e407-4fd6-ff38-b098ee321616"
   },
   "outputs": [
    {
     "ename": "ModuleNotFoundError",
     "evalue": "No module named 'google.colab'",
     "output_type": "error",
     "traceback": [
      "\u001b[0;31m---------------------------------------------------------------------------\u001b[0m",
      "\u001b[0;31mModuleNotFoundError\u001b[0m                       Traceback (most recent call last)",
      "\u001b[0;32m<ipython-input-5-d5df0069828e>\u001b[0m in \u001b[0;36m<module>\u001b[0;34m\u001b[0m\n\u001b[0;32m----> 1\u001b[0;31m \u001b[0;32mfrom\u001b[0m \u001b[0mgoogle\u001b[0m\u001b[0;34m.\u001b[0m\u001b[0mcolab\u001b[0m \u001b[0;32mimport\u001b[0m \u001b[0mdrive\u001b[0m\u001b[0;34m\u001b[0m\u001b[0;34m\u001b[0m\u001b[0m\n\u001b[0m\u001b[1;32m      2\u001b[0m \u001b[0mdrive\u001b[0m\u001b[0;34m.\u001b[0m\u001b[0mmount\u001b[0m\u001b[0;34m(\u001b[0m\u001b[0;34m'/content/drive'\u001b[0m\u001b[0;34m)\u001b[0m\u001b[0;34m\u001b[0m\u001b[0;34m\u001b[0m\u001b[0m\n",
      "\u001b[0;31mModuleNotFoundError\u001b[0m: No module named 'google.colab'"
     ]
    }
   ],
   "source": [
    "from google.colab import drive\n",
    "drive.mount('/content/drive')"
   ]
  },
  {
   "cell_type": "code",
   "execution_count": 6,
   "metadata": {
    "id": "I65RfYZpI8O-"
   },
   "outputs": [
    {
     "ename": "FileNotFoundError",
     "evalue": "[Errno 2] No such file or directory: '/content/drive/MyDrive/Colab Notebooks'",
     "output_type": "error",
     "traceback": [
      "\u001b[0;31m---------------------------------------------------------------------------\u001b[0m",
      "\u001b[0;31mFileNotFoundError\u001b[0m                         Traceback (most recent call last)",
      "\u001b[0;32m<ipython-input-6-142b0a764800>\u001b[0m in \u001b[0;36m<module>\u001b[0;34m\u001b[0m\n\u001b[1;32m      1\u001b[0m \u001b[0;32mimport\u001b[0m \u001b[0mos\u001b[0m\u001b[0;34m\u001b[0m\u001b[0;34m\u001b[0m\u001b[0m\n\u001b[0;32m----> 2\u001b[0;31m \u001b[0mos\u001b[0m\u001b[0;34m.\u001b[0m\u001b[0mchdir\u001b[0m\u001b[0;34m(\u001b[0m\u001b[0;34m'/content/drive/MyDrive/Colab Notebooks'\u001b[0m\u001b[0;34m)\u001b[0m\u001b[0;34m\u001b[0m\u001b[0;34m\u001b[0m\u001b[0m\n\u001b[0m",
      "\u001b[0;31mFileNotFoundError\u001b[0m: [Errno 2] No such file or directory: '/content/drive/MyDrive/Colab Notebooks'"
     ]
    }
   ],
   "source": [
    "import os\n",
    "os.chdir('/content/drive/MyDrive/Colab Notebooks')"
   ]
  },
  {
   "cell_type": "code",
   "execution_count": 2,
   "metadata": {
    "id": "4pzyasjWIO0p"
   },
   "outputs": [],
   "source": [
    "data = pd.read_parquet('full_dataset.parquet', engine='pyarrow')\n",
    "train = pd.read_csv('train.csv')\n",
    "test = pd.read_csv('test.csv')"
   ]
  },
  {
   "cell_type": "code",
   "execution_count": 7,
   "metadata": {},
   "outputs": [
    {
     "data": {
      "text/html": [
       "<div>\n",
       "<style scoped>\n",
       "    .dataframe tbody tr th:only-of-type {\n",
       "        vertical-align: middle;\n",
       "    }\n",
       "\n",
       "    .dataframe tbody tr th {\n",
       "        vertical-align: top;\n",
       "    }\n",
       "\n",
       "    .dataframe thead th {\n",
       "        text-align: right;\n",
       "    }\n",
       "</style>\n",
       "<table border=\"1\" class=\"dataframe\">\n",
       "  <thead>\n",
       "    <tr style=\"text-align: right;\">\n",
       "      <th></th>\n",
       "      <th>label</th>\n",
       "      <th>session_id</th>\n",
       "    </tr>\n",
       "  </thead>\n",
       "  <tbody>\n",
       "    <tr>\n",
       "      <th>0</th>\n",
       "      <td>2</td>\n",
       "      <td>6</td>\n",
       "    </tr>\n",
       "    <tr>\n",
       "      <th>1</th>\n",
       "      <td>1</td>\n",
       "      <td>13</td>\n",
       "    </tr>\n",
       "    <tr>\n",
       "      <th>2</th>\n",
       "      <td>2</td>\n",
       "      <td>21</td>\n",
       "    </tr>\n",
       "    <tr>\n",
       "      <th>3</th>\n",
       "      <td>2</td>\n",
       "      <td>22</td>\n",
       "    </tr>\n",
       "    <tr>\n",
       "      <th>4</th>\n",
       "      <td>4</td>\n",
       "      <td>32</td>\n",
       "    </tr>\n",
       "    <tr>\n",
       "      <th>...</th>\n",
       "      <td>...</td>\n",
       "      <td>...</td>\n",
       "    </tr>\n",
       "    <tr>\n",
       "      <th>208481</th>\n",
       "      <td>3</td>\n",
       "      <td>1606177</td>\n",
       "    </tr>\n",
       "    <tr>\n",
       "      <th>208482</th>\n",
       "      <td>2</td>\n",
       "      <td>1606199</td>\n",
       "    </tr>\n",
       "    <tr>\n",
       "      <th>208483</th>\n",
       "      <td>2</td>\n",
       "      <td>1606217</td>\n",
       "    </tr>\n",
       "    <tr>\n",
       "      <th>208484</th>\n",
       "      <td>1</td>\n",
       "      <td>1606226</td>\n",
       "    </tr>\n",
       "    <tr>\n",
       "      <th>208485</th>\n",
       "      <td>2</td>\n",
       "      <td>1606227</td>\n",
       "    </tr>\n",
       "  </tbody>\n",
       "</table>\n",
       "<p>208486 rows × 2 columns</p>\n",
       "</div>"
      ],
      "text/plain": [
       "        label  session_id\n",
       "0           2           6\n",
       "1           1          13\n",
       "2           2          21\n",
       "3           2          22\n",
       "4           4          32\n",
       "...       ...         ...\n",
       "208481      3     1606177\n",
       "208482      2     1606199\n",
       "208483      2     1606217\n",
       "208484      1     1606226\n",
       "208485      2     1606227\n",
       "\n",
       "[208486 rows x 2 columns]"
      ]
     },
     "execution_count": 7,
     "metadata": {},
     "output_type": "execute_result"
    }
   ],
   "source": [
    "train"
   ]
  },
  {
   "cell_type": "code",
   "execution_count": 8,
   "metadata": {},
   "outputs": [
    {
     "data": {
      "text/html": [
       "<div>\n",
       "<style scoped>\n",
       "    .dataframe tbody tr th:only-of-type {\n",
       "        vertical-align: middle;\n",
       "    }\n",
       "\n",
       "    .dataframe tbody tr th {\n",
       "        vertical-align: top;\n",
       "    }\n",
       "\n",
       "    .dataframe thead th {\n",
       "        text-align: right;\n",
       "    }\n",
       "</style>\n",
       "<table border=\"1\" class=\"dataframe\">\n",
       "  <thead>\n",
       "    <tr style=\"text-align: right;\">\n",
       "      <th></th>\n",
       "      <th>session_id</th>\n",
       "    </tr>\n",
       "  </thead>\n",
       "  <tbody>\n",
       "    <tr>\n",
       "      <th>0</th>\n",
       "      <td>23</td>\n",
       "    </tr>\n",
       "    <tr>\n",
       "      <th>1</th>\n",
       "      <td>27</td>\n",
       "    </tr>\n",
       "    <tr>\n",
       "      <th>2</th>\n",
       "      <td>30</td>\n",
       "    </tr>\n",
       "    <tr>\n",
       "      <th>3</th>\n",
       "      <td>58</td>\n",
       "    </tr>\n",
       "    <tr>\n",
       "      <th>4</th>\n",
       "      <td>64</td>\n",
       "    </tr>\n",
       "    <tr>\n",
       "      <th>...</th>\n",
       "      <td>...</td>\n",
       "    </tr>\n",
       "    <tr>\n",
       "      <th>139346</th>\n",
       "      <td>1606165</td>\n",
       "    </tr>\n",
       "    <tr>\n",
       "      <th>139347</th>\n",
       "      <td>1606172</td>\n",
       "    </tr>\n",
       "    <tr>\n",
       "      <th>139348</th>\n",
       "      <td>1606196</td>\n",
       "    </tr>\n",
       "    <tr>\n",
       "      <th>139349</th>\n",
       "      <td>1606201</td>\n",
       "    </tr>\n",
       "    <tr>\n",
       "      <th>139350</th>\n",
       "      <td>1606224</td>\n",
       "    </tr>\n",
       "  </tbody>\n",
       "</table>\n",
       "<p>139351 rows × 1 columns</p>\n",
       "</div>"
      ],
      "text/plain": [
       "        session_id\n",
       "0               23\n",
       "1               27\n",
       "2               30\n",
       "3               58\n",
       "4               64\n",
       "...            ...\n",
       "139346     1606165\n",
       "139347     1606172\n",
       "139348     1606196\n",
       "139349     1606201\n",
       "139350     1606224\n",
       "\n",
       "[139351 rows x 1 columns]"
      ]
     },
     "execution_count": 8,
     "metadata": {},
     "output_type": "execute_result"
    }
   ],
   "source": [
    "test"
   ]
  },
  {
   "cell_type": "code",
   "execution_count": 9,
   "metadata": {
    "colab": {
     "base_uri": "https://localhost:8080/",
     "height": 309
    },
    "id": "bg6C5-E3IO0q",
    "outputId": "beb3f213-b624-4559-acf3-0aecc9b94b0e"
   },
   "outputs": [
    {
     "data": {
      "text/html": [
       "<div>\n",
       "<style scoped>\n",
       "    .dataframe tbody tr th:only-of-type {\n",
       "        vertical-align: middle;\n",
       "    }\n",
       "\n",
       "    .dataframe tbody tr th {\n",
       "        vertical-align: top;\n",
       "    }\n",
       "\n",
       "    .dataframe thead th {\n",
       "        text-align: right;\n",
       "    }\n",
       "</style>\n",
       "<table border=\"1\" class=\"dataframe\">\n",
       "  <thead>\n",
       "    <tr style=\"text-align: right;\">\n",
       "      <th></th>\n",
       "      <th>session_id</th>\n",
       "      <th>user_identifier</th>\n",
       "      <th>event_timestamp</th>\n",
       "      <th>event_category_idx_lv1</th>\n",
       "      <th>event_category_idx_lv2</th>\n",
       "      <th>event_category_idx_lv3</th>\n",
       "      <th>event_category_idx_lv4</th>\n",
       "      <th>tobi_timestamp</th>\n",
       "    </tr>\n",
       "  </thead>\n",
       "  <tbody>\n",
       "    <tr>\n",
       "      <th>0</th>\n",
       "      <td>182576</td>\n",
       "      <td>0</td>\n",
       "      <td>2020-09-22 14:38:14</td>\n",
       "      <td>1_5</td>\n",
       "      <td>2</td>\n",
       "      <td>None</td>\n",
       "      <td>None</td>\n",
       "      <td>2020-09-24 02:03:53</td>\n",
       "    </tr>\n",
       "    <tr>\n",
       "      <th>1</th>\n",
       "      <td>182576</td>\n",
       "      <td>0</td>\n",
       "      <td>2020-09-22 14:38:14</td>\n",
       "      <td>1_4</td>\n",
       "      <td>2_9</td>\n",
       "      <td>3_5</td>\n",
       "      <td>None</td>\n",
       "      <td>2020-09-24 02:03:53</td>\n",
       "    </tr>\n",
       "    <tr>\n",
       "      <th>2</th>\n",
       "      <td>182576</td>\n",
       "      <td>0</td>\n",
       "      <td>2020-09-22 11:46:56</td>\n",
       "      <td>1_4</td>\n",
       "      <td>2_9</td>\n",
       "      <td>3_6</td>\n",
       "      <td>None</td>\n",
       "      <td>2020-09-24 02:03:53</td>\n",
       "    </tr>\n",
       "    <tr>\n",
       "      <th>3</th>\n",
       "      <td>182576</td>\n",
       "      <td>0</td>\n",
       "      <td>2020-09-22 11:23:50</td>\n",
       "      <td>1_4</td>\n",
       "      <td>2_9</td>\n",
       "      <td>3_12</td>\n",
       "      <td>None</td>\n",
       "      <td>2020-09-24 02:03:53</td>\n",
       "    </tr>\n",
       "    <tr>\n",
       "      <th>4</th>\n",
       "      <td>182576</td>\n",
       "      <td>0</td>\n",
       "      <td>2020-09-22 11:21:29</td>\n",
       "      <td>1_4</td>\n",
       "      <td>2_9</td>\n",
       "      <td>3_6</td>\n",
       "      <td>None</td>\n",
       "      <td>2020-09-24 02:03:53</td>\n",
       "    </tr>\n",
       "  </tbody>\n",
       "</table>\n",
       "</div>"
      ],
      "text/plain": [
       "   session_id  user_identifier     event_timestamp event_category_idx_lv1  \\\n",
       "0      182576                0 2020-09-22 14:38:14                    1_5   \n",
       "1      182576                0 2020-09-22 14:38:14                    1_4   \n",
       "2      182576                0 2020-09-22 11:46:56                    1_4   \n",
       "3      182576                0 2020-09-22 11:23:50                    1_4   \n",
       "4      182576                0 2020-09-22 11:21:29                    1_4   \n",
       "\n",
       "  event_category_idx_lv2 event_category_idx_lv3 event_category_idx_lv4  \\\n",
       "0                      2                   None                   None   \n",
       "1                    2_9                    3_5                   None   \n",
       "2                    2_9                    3_6                   None   \n",
       "3                    2_9                   3_12                   None   \n",
       "4                    2_9                    3_6                   None   \n",
       "\n",
       "       tobi_timestamp  \n",
       "0 2020-09-24 02:03:53  \n",
       "1 2020-09-24 02:03:53  \n",
       "2 2020-09-24 02:03:53  \n",
       "3 2020-09-24 02:03:53  \n",
       "4 2020-09-24 02:03:53  "
      ]
     },
     "execution_count": 9,
     "metadata": {},
     "output_type": "execute_result"
    }
   ],
   "source": [
    "data.head()"
   ]
  },
  {
   "cell_type": "code",
   "execution_count": 10,
   "metadata": {
    "id": "_FOYBpHUIO0s"
   },
   "outputs": [],
   "source": [
    "data.sort_values(by=['session_id','event_timestamp'], inplace=True)"
   ]
  },
  {
   "cell_type": "code",
   "execution_count": 11,
   "metadata": {
    "id": "kdJ0wL4R35IF"
   },
   "outputs": [],
   "source": [
    "data['tobi_timestamp'] = (data['tobi_timestamp'] - min(data['tobi_timestamp'])).apply(lambda td: td.delta) * 1e-9"
   ]
  },
  {
   "cell_type": "code",
   "execution_count": null,
   "metadata": {
    "id": "otTgNLe24a7e"
   },
   "outputs": [],
   "source": [
    "minimum_date = data.groupby('user_identifier', sort=False).min(numeric_only=True)"
   ]
  },
  {
   "cell_type": "code",
   "execution_count": null,
   "metadata": {
    "colab": {
     "base_uri": "https://localhost:8080/",
     "height": 611
    },
    "id": "40MKjQ_OIO0t",
    "outputId": "2a0929f0-fa1b-42b5-d797-c5600638a336"
   },
   "outputs": [
    {
     "data": {
      "text/html": [
       "<div>\n",
       "<style scoped>\n",
       "    .dataframe tbody tr th:only-of-type {\n",
       "        vertical-align: middle;\n",
       "    }\n",
       "\n",
       "    .dataframe tbody tr th {\n",
       "        vertical-align: top;\n",
       "    }\n",
       "\n",
       "    .dataframe thead th {\n",
       "        text-align: right;\n",
       "    }\n",
       "</style>\n",
       "<table border=\"1\" class=\"dataframe\">\n",
       "  <thead>\n",
       "    <tr style=\"text-align: right;\">\n",
       "      <th></th>\n",
       "      <th>session_id</th>\n",
       "      <th>user_identifier</th>\n",
       "      <th>event_timestamp</th>\n",
       "      <th>event_category_idx_lv1</th>\n",
       "      <th>event_category_idx_lv2</th>\n",
       "      <th>event_category_idx_lv3</th>\n",
       "      <th>event_category_idx_lv4</th>\n",
       "      <th>tobi_timestamp</th>\n",
       "    </tr>\n",
       "  </thead>\n",
       "  <tbody>\n",
       "    <tr>\n",
       "      <th>4134595</th>\n",
       "      <td>6</td>\n",
       "      <td>237376</td>\n",
       "      <td>2020-07-15 08:47:31</td>\n",
       "      <td>1_0</td>\n",
       "      <td>2_3</td>\n",
       "      <td>None</td>\n",
       "      <td>None</td>\n",
       "      <td>4445182.0</td>\n",
       "    </tr>\n",
       "    <tr>\n",
       "      <th>4134594</th>\n",
       "      <td>6</td>\n",
       "      <td>237376</td>\n",
       "      <td>2020-07-15 20:08:52</td>\n",
       "      <td>1_0</td>\n",
       "      <td>2_2</td>\n",
       "      <td>None</td>\n",
       "      <td>None</td>\n",
       "      <td>4445182.0</td>\n",
       "    </tr>\n",
       "    <tr>\n",
       "      <th>4134593</th>\n",
       "      <td>6</td>\n",
       "      <td>237376</td>\n",
       "      <td>2020-07-15 20:09:20</td>\n",
       "      <td>1_0</td>\n",
       "      <td>2_4</td>\n",
       "      <td>None</td>\n",
       "      <td>None</td>\n",
       "      <td>4445182.0</td>\n",
       "    </tr>\n",
       "    <tr>\n",
       "      <th>4134592</th>\n",
       "      <td>6</td>\n",
       "      <td>237376</td>\n",
       "      <td>2020-07-15 20:09:31</td>\n",
       "      <td>1_0</td>\n",
       "      <td>2_4</td>\n",
       "      <td>None</td>\n",
       "      <td>None</td>\n",
       "      <td>4445182.0</td>\n",
       "    </tr>\n",
       "    <tr>\n",
       "      <th>4134591</th>\n",
       "      <td>6</td>\n",
       "      <td>237376</td>\n",
       "      <td>2020-07-15 20:10:15</td>\n",
       "      <td>1_0</td>\n",
       "      <td>2_3</td>\n",
       "      <td>None</td>\n",
       "      <td>None</td>\n",
       "      <td>4445182.0</td>\n",
       "    </tr>\n",
       "    <tr>\n",
       "      <th>...</th>\n",
       "      <td>...</td>\n",
       "      <td>...</td>\n",
       "      <td>...</td>\n",
       "      <td>...</td>\n",
       "      <td>...</td>\n",
       "      <td>...</td>\n",
       "      <td>...</td>\n",
       "      <td>...</td>\n",
       "    </tr>\n",
       "    <tr>\n",
       "      <th>5532705</th>\n",
       "      <td>1606217</td>\n",
       "      <td>701497</td>\n",
       "      <td>2020-06-18 11:25:00</td>\n",
       "      <td>1_5</td>\n",
       "      <td>1</td>\n",
       "      <td>None</td>\n",
       "      <td>None</td>\n",
       "      <td>1540260.0</td>\n",
       "    </tr>\n",
       "    <tr>\n",
       "      <th>5532706</th>\n",
       "      <td>1606217</td>\n",
       "      <td>701497</td>\n",
       "      <td>2020-06-18 11:25:00</td>\n",
       "      <td>1_3</td>\n",
       "      <td>2_6</td>\n",
       "      <td>None</td>\n",
       "      <td>None</td>\n",
       "      <td>1540260.0</td>\n",
       "    </tr>\n",
       "    <tr>\n",
       "      <th>5676991</th>\n",
       "      <td>1606224</td>\n",
       "      <td>871126</td>\n",
       "      <td>2020-06-01 00:00:00</td>\n",
       "      <td>1_2</td>\n",
       "      <td>2_1</td>\n",
       "      <td>3_2</td>\n",
       "      <td>None</td>\n",
       "      <td>123330.0</td>\n",
       "    </tr>\n",
       "    <tr>\n",
       "      <th>1431141</th>\n",
       "      <td>1606226</td>\n",
       "      <td>25526</td>\n",
       "      <td>2020-06-04 13:24:00</td>\n",
       "      <td>1_1</td>\n",
       "      <td>2_0</td>\n",
       "      <td>3_0</td>\n",
       "      <td>4_1</td>\n",
       "      <td>323692.0</td>\n",
       "    </tr>\n",
       "    <tr>\n",
       "      <th>5668409</th>\n",
       "      <td>1606227</td>\n",
       "      <td>846547</td>\n",
       "      <td>2020-06-17 00:00:00</td>\n",
       "      <td>1_2</td>\n",
       "      <td>2_14</td>\n",
       "      <td>3_4</td>\n",
       "      <td>None</td>\n",
       "      <td>2483548.0</td>\n",
       "    </tr>\n",
       "  </tbody>\n",
       "</table>\n",
       "<p>5676992 rows × 8 columns</p>\n",
       "</div>"
      ],
      "text/plain": [
       "         session_id  user_identifier  ... event_category_idx_lv4 tobi_timestamp\n",
       "4134595           6           237376  ...                   None      4445182.0\n",
       "4134594           6           237376  ...                   None      4445182.0\n",
       "4134593           6           237376  ...                   None      4445182.0\n",
       "4134592           6           237376  ...                   None      4445182.0\n",
       "4134591           6           237376  ...                   None      4445182.0\n",
       "...             ...              ...  ...                    ...            ...\n",
       "5532705     1606217           701497  ...                   None      1540260.0\n",
       "5532706     1606217           701497  ...                   None      1540260.0\n",
       "5676991     1606224           871126  ...                   None       123330.0\n",
       "1431141     1606226            25526  ...                    4_1       323692.0\n",
       "5668409     1606227           846547  ...                   None      2483548.0\n",
       "\n",
       "[5676992 rows x 8 columns]"
      ]
     },
     "execution_count": 9,
     "metadata": {
      "tags": []
     },
     "output_type": "execute_result"
    }
   ],
   "source": [
    "data"
   ]
  },
  {
   "cell_type": "code",
   "execution_count": null,
   "metadata": {
    "id": "nZweNAEeIO0t"
   },
   "outputs": [],
   "source": [
    "filt = data['event_category_idx_lv2'].apply(lambda s: s.isnumeric() if isinstance(s, str) else False)\n",
    "to_drop = data[filt]"
   ]
  },
  {
   "cell_type": "code",
   "execution_count": null,
   "metadata": {
    "id": "U9mb69Z6IO0u"
   },
   "outputs": [],
   "source": [
    "data.drop(index=to_drop.index, inplace=True)"
   ]
  },
  {
   "cell_type": "code",
   "execution_count": null,
   "metadata": {
    "id": "DNQIyZqyMl-H"
   },
   "outputs": [],
   "source": [
    "grouped_by_idx = data.groupby(['event_category_idx_lv2', 'event_category_idx_lv3'])['event_category_idx_lv4'].unique().apply(lambda s: s[0] if s[0] == None else s).dropna()"
   ]
  },
  {
   "cell_type": "code",
   "execution_count": null,
   "metadata": {
    "id": "fuYL8T4CMKBQ"
   },
   "outputs": [],
   "source": [
    "len_grouped_by_idx = grouped_by_idx.apply(lambda s: len(s))\n",
    "drop_4th = []\n",
    "for i in len_grouped_by_idx.index:\n",
    "    if len_grouped_by_idx[i] == 1:\n",
    "        drop_4th.append(i)\n",
    "drop_4th = np.array(drop_4th)"
   ]
  },
  {
   "cell_type": "code",
   "execution_count": null,
   "metadata": {
    "id": "-rUR44g5MPsw"
   },
   "outputs": [],
   "source": [
    "drop_3rd_and_4th = []\n",
    "for i, j in drop_4th:\n",
    "    if len(len_grouped_by_idx[i]) == 1:\n",
    "        drop_3rd_and_4th.append(i)"
   ]
  },
  {
   "cell_type": "code",
   "execution_count": null,
   "metadata": {
    "id": "bfl6CBN-MYbq"
   },
   "outputs": [],
   "source": [
    "filt = data['event_category_idx_lv2'].isin(drop_3rd_and_4th)\n",
    "data.loc[filt, ['event_category_idx_lv3', 'event_category_idx_lv4']] = None"
   ]
  },
  {
   "cell_type": "code",
   "execution_count": null,
   "metadata": {
    "id": "O-l81TIbMZO0"
   },
   "outputs": [],
   "source": [
    "filt = (data['event_category_idx_lv2'].isin(drop_4th[:,0])) & (data['event_category_idx_lv3'].isin(drop_4th[:,1]))\n",
    "data.loc[filt, 'event_category_idx_lv4'] = None"
   ]
  },
  {
   "cell_type": "code",
   "execution_count": null,
   "metadata": {
    "id": "JWiNXexlIO0u"
   },
   "outputs": [],
   "source": [
    "baseline_date = pd.Timestamp(year=2020, month=4, day=14)"
   ]
  },
  {
   "cell_type": "code",
   "execution_count": null,
   "metadata": {
    "id": "fXoL4gMBIO0v"
   },
   "outputs": [],
   "source": [
    "data['event_timestamp'] = (data['event_timestamp'] - baseline_date).apply(lambda ts: ts.delta) * 1e-9 "
   ]
  },
  {
   "cell_type": "code",
   "execution_count": null,
   "metadata": {
    "id": "4yrYb9KC-Y40"
   },
   "outputs": [],
   "source": [
    "event_categories = ['event_category_idx_lv1', 'event_category_idx_lv2', 'event_category_idx_lv3', 'event_category_idx_lv4']\n",
    "def filt(s):\n",
    "    if isinstance(s, str):\n",
    "        return s if s.isnumeric() else s[2:]\n",
    "    return -1\n",
    "for col in event_categories:\n",
    "    data[col] = data[col].apply(filt)"
   ]
  },
  {
   "cell_type": "code",
   "execution_count": null,
   "metadata": {
    "colab": {
     "base_uri": "https://localhost:8080/",
     "height": 438
    },
    "id": "Z8RxypxXIO0v",
    "outputId": "b7dd3532-4299-4aa8-821a-0a3fe61dd5eb"
   },
   "outputs": [
    {
     "data": {
      "text/html": [
       "<div>\n",
       "<style scoped>\n",
       "    .dataframe tbody tr th:only-of-type {\n",
       "        vertical-align: middle;\n",
       "    }\n",
       "\n",
       "    .dataframe tbody tr th {\n",
       "        vertical-align: top;\n",
       "    }\n",
       "\n",
       "    .dataframe thead th {\n",
       "        text-align: right;\n",
       "    }\n",
       "</style>\n",
       "<table border=\"1\" class=\"dataframe\">\n",
       "  <thead>\n",
       "    <tr style=\"text-align: right;\">\n",
       "      <th></th>\n",
       "      <th>session_id</th>\n",
       "      <th>user_identifier</th>\n",
       "      <th>event_timestamp</th>\n",
       "      <th>event_category_idx_lv1</th>\n",
       "      <th>event_category_idx_lv2</th>\n",
       "      <th>event_category_idx_lv3</th>\n",
       "      <th>event_category_idx_lv4</th>\n",
       "      <th>tobi_timestamp</th>\n",
       "    </tr>\n",
       "  </thead>\n",
       "  <tbody>\n",
       "    <tr>\n",
       "      <th>4134595</th>\n",
       "      <td>6</td>\n",
       "      <td>237376</td>\n",
       "      <td>7980451.0</td>\n",
       "      <td>0</td>\n",
       "      <td>3</td>\n",
       "      <td>-1</td>\n",
       "      <td>-1</td>\n",
       "      <td>4445182.0</td>\n",
       "    </tr>\n",
       "    <tr>\n",
       "      <th>4134594</th>\n",
       "      <td>6</td>\n",
       "      <td>237376</td>\n",
       "      <td>8021332.0</td>\n",
       "      <td>0</td>\n",
       "      <td>2</td>\n",
       "      <td>-1</td>\n",
       "      <td>-1</td>\n",
       "      <td>4445182.0</td>\n",
       "    </tr>\n",
       "    <tr>\n",
       "      <th>4134593</th>\n",
       "      <td>6</td>\n",
       "      <td>237376</td>\n",
       "      <td>8021360.0</td>\n",
       "      <td>0</td>\n",
       "      <td>4</td>\n",
       "      <td>-1</td>\n",
       "      <td>-1</td>\n",
       "      <td>4445182.0</td>\n",
       "    </tr>\n",
       "    <tr>\n",
       "      <th>4134592</th>\n",
       "      <td>6</td>\n",
       "      <td>237376</td>\n",
       "      <td>8021371.0</td>\n",
       "      <td>0</td>\n",
       "      <td>4</td>\n",
       "      <td>-1</td>\n",
       "      <td>-1</td>\n",
       "      <td>4445182.0</td>\n",
       "    </tr>\n",
       "    <tr>\n",
       "      <th>4134591</th>\n",
       "      <td>6</td>\n",
       "      <td>237376</td>\n",
       "      <td>8021415.0</td>\n",
       "      <td>0</td>\n",
       "      <td>3</td>\n",
       "      <td>-1</td>\n",
       "      <td>-1</td>\n",
       "      <td>4445182.0</td>\n",
       "    </tr>\n",
       "    <tr>\n",
       "      <th>...</th>\n",
       "      <td>...</td>\n",
       "      <td>...</td>\n",
       "      <td>...</td>\n",
       "      <td>...</td>\n",
       "      <td>...</td>\n",
       "      <td>...</td>\n",
       "      <td>...</td>\n",
       "      <td>...</td>\n",
       "    </tr>\n",
       "    <tr>\n",
       "      <th>2883978</th>\n",
       "      <td>1606201</td>\n",
       "      <td>97349</td>\n",
       "      <td>14061100.0</td>\n",
       "      <td>4</td>\n",
       "      <td>9</td>\n",
       "      <td>5</td>\n",
       "      <td>-1</td>\n",
       "      <td>9890853.0</td>\n",
       "    </tr>\n",
       "    <tr>\n",
       "      <th>5532706</th>\n",
       "      <td>1606217</td>\n",
       "      <td>701497</td>\n",
       "      <td>5657100.0</td>\n",
       "      <td>3</td>\n",
       "      <td>6</td>\n",
       "      <td>-1</td>\n",
       "      <td>-1</td>\n",
       "      <td>1540260.0</td>\n",
       "    </tr>\n",
       "    <tr>\n",
       "      <th>5676991</th>\n",
       "      <td>1606224</td>\n",
       "      <td>871126</td>\n",
       "      <td>4147200.0</td>\n",
       "      <td>2</td>\n",
       "      <td>1</td>\n",
       "      <td>2</td>\n",
       "      <td>-1</td>\n",
       "      <td>123330.0</td>\n",
       "    </tr>\n",
       "    <tr>\n",
       "      <th>1431141</th>\n",
       "      <td>1606226</td>\n",
       "      <td>25526</td>\n",
       "      <td>4454640.0</td>\n",
       "      <td>1</td>\n",
       "      <td>0</td>\n",
       "      <td>0</td>\n",
       "      <td>1</td>\n",
       "      <td>323692.0</td>\n",
       "    </tr>\n",
       "    <tr>\n",
       "      <th>5668409</th>\n",
       "      <td>1606227</td>\n",
       "      <td>846547</td>\n",
       "      <td>5529600.0</td>\n",
       "      <td>2</td>\n",
       "      <td>14</td>\n",
       "      <td>4</td>\n",
       "      <td>-1</td>\n",
       "      <td>2483548.0</td>\n",
       "    </tr>\n",
       "  </tbody>\n",
       "</table>\n",
       "<p>5329225 rows × 8 columns</p>\n",
       "</div>"
      ],
      "text/plain": [
       "         session_id  user_identifier  ...  event_category_idx_lv4 tobi_timestamp\n",
       "4134595           6           237376  ...                      -1      4445182.0\n",
       "4134594           6           237376  ...                      -1      4445182.0\n",
       "4134593           6           237376  ...                      -1      4445182.0\n",
       "4134592           6           237376  ...                      -1      4445182.0\n",
       "4134591           6           237376  ...                      -1      4445182.0\n",
       "...             ...              ...  ...                     ...            ...\n",
       "2883978     1606201            97349  ...                      -1      9890853.0\n",
       "5532706     1606217           701497  ...                      -1      1540260.0\n",
       "5676991     1606224           871126  ...                      -1       123330.0\n",
       "1431141     1606226            25526  ...                       1       323692.0\n",
       "5668409     1606227           846547  ...                      -1      2483548.0\n",
       "\n",
       "[5329225 rows x 8 columns]"
      ]
     },
     "execution_count": 15,
     "metadata": {
      "tags": []
     },
     "output_type": "execute_result"
    }
   ],
   "source": [
    "data"
   ]
  },
  {
   "cell_type": "code",
   "execution_count": null,
   "metadata": {
    "id": "juW2A_gVIO0v"
   },
   "outputs": [],
   "source": [
    "training_data = data[data['session_id'].isin(train['session_id'])]"
   ]
  },
  {
   "cell_type": "code",
   "execution_count": null,
   "metadata": {
    "id": "R2p-y1ZwIO0w"
   },
   "outputs": [],
   "source": [
    "testing_data = data[data['session_id'].isin(test['session_id'])]"
   ]
  },
  {
   "cell_type": "code",
   "execution_count": null,
   "metadata": {
    "id": "Mrsmm3tdIO0x"
   },
   "outputs": [],
   "source": [
    "y_train, y_test_and_val = train_test_split(train, train_size=0.7, random_state=42)\n",
    "y_test, y_val = train_test_split(y_test_and_val, train_size=0.5, random_state=42)"
   ]
  },
  {
   "cell_type": "code",
   "execution_count": null,
   "metadata": {
    "colab": {
     "base_uri": "https://localhost:8080/"
    },
    "id": "AKd7tfLr5FiT",
    "outputId": "2caf501d-5e8e-4235-ad18-bcb37d2164f5"
   },
   "outputs": [
    {
     "name": "stderr",
     "output_type": "stream",
     "text": [
      "/usr/local/lib/python3.6/dist-packages/ipykernel_launcher.py:2: SettingWithCopyWarning: \n",
      "A value is trying to be set on a copy of a slice from a DataFrame\n",
      "\n",
      "See the caveats in the documentation: https://pandas.pydata.org/pandas-docs/stable/user_guide/indexing.html#returning-a-view-versus-a-copy\n",
      "  \n"
     ]
    }
   ],
   "source": [
    "for df in [y_train, y_test, y_val]:\n",
    "    df.sort_values(by='session_id', inplace=True)"
   ]
  },
  {
   "cell_type": "code",
   "execution_count": null,
   "metadata": {
    "id": "3UoDvydc4vvc"
   },
   "outputs": [],
   "source": [
    "train_df = data[data['session_id'].isin(y_train['session_id'])]\n",
    "test_df = data[data['session_id'].isin(y_test['session_id'])]\n",
    "val_df = data[data['session_id'].isin(y_val['session_id'])]"
   ]
  },
  {
   "cell_type": "code",
   "execution_count": null,
   "metadata": {
    "colab": {
     "base_uri": "https://localhost:8080/"
    },
    "id": "YjZB9hc9IO0w",
    "outputId": "20ad3c27-78bc-4f64-b711-70e9f4bd0692"
   },
   "outputs": [
    {
     "data": {
      "text/plain": [
       "347837"
      ]
     },
     "execution_count": 21,
     "metadata": {
      "tags": []
     },
     "output_type": "execute_result"
    }
   ],
   "source": [
    "n_sequences = data['session_id'].nunique()\n",
    "n_sequences"
   ]
  },
  {
   "cell_type": "code",
   "execution_count": null,
   "metadata": {
    "id": "vJxaBFFLh66R"
   },
   "outputs": [],
   "source": [
    "train_labels_by_user = get_user_data(train_df, y_train)"
   ]
  },
  {
   "cell_type": "code",
   "execution_count": null,
   "metadata": {
    "colab": {
     "base_uri": "https://localhost:8080/",
     "height": 418
    },
    "id": "hI2FFPOyij6n",
    "outputId": "b21cc71e-6a34-4bf6-b3be-93170bcb499a"
   },
   "outputs": [
    {
     "data": {
      "text/html": [
       "<div>\n",
       "<style scoped>\n",
       "    .dataframe tbody tr th:only-of-type {\n",
       "        vertical-align: middle;\n",
       "    }\n",
       "\n",
       "    .dataframe tbody tr th {\n",
       "        vertical-align: top;\n",
       "    }\n",
       "\n",
       "    .dataframe thead th {\n",
       "        text-align: right;\n",
       "    }\n",
       "</style>\n",
       "<table border=\"1\" class=\"dataframe\">\n",
       "  <thead>\n",
       "    <tr style=\"text-align: right;\">\n",
       "      <th></th>\n",
       "      <th>0</th>\n",
       "      <th>1</th>\n",
       "      <th>2</th>\n",
       "      <th>3</th>\n",
       "      <th>4</th>\n",
       "    </tr>\n",
       "  </thead>\n",
       "  <tbody>\n",
       "    <tr>\n",
       "      <th>0</th>\n",
       "      <td>0.0</td>\n",
       "      <td>16.0</td>\n",
       "      <td>0.0</td>\n",
       "      <td>7.0</td>\n",
       "      <td>11.0</td>\n",
       "    </tr>\n",
       "    <tr>\n",
       "      <th>1</th>\n",
       "      <td>1.0</td>\n",
       "      <td>6.0</td>\n",
       "      <td>0.0</td>\n",
       "      <td>7.0</td>\n",
       "      <td>11.0</td>\n",
       "    </tr>\n",
       "    <tr>\n",
       "      <th>2</th>\n",
       "      <td>2.0</td>\n",
       "      <td>10.0</td>\n",
       "      <td>0.0</td>\n",
       "      <td>4.0</td>\n",
       "      <td>2.0</td>\n",
       "    </tr>\n",
       "    <tr>\n",
       "      <th>3</th>\n",
       "      <td>3.0</td>\n",
       "      <td>9.0</td>\n",
       "      <td>0.0</td>\n",
       "      <td>4.0</td>\n",
       "      <td>9.0</td>\n",
       "    </tr>\n",
       "    <tr>\n",
       "      <th>4</th>\n",
       "      <td>4.0</td>\n",
       "      <td>0.0</td>\n",
       "      <td>12.0</td>\n",
       "      <td>0.0</td>\n",
       "      <td>1.0</td>\n",
       "    </tr>\n",
       "    <tr>\n",
       "      <th>...</th>\n",
       "      <td>...</td>\n",
       "      <td>...</td>\n",
       "      <td>...</td>\n",
       "      <td>...</td>\n",
       "      <td>...</td>\n",
       "    </tr>\n",
       "    <tr>\n",
       "      <th>124377</th>\n",
       "      <td>870984.0</td>\n",
       "      <td>0.0</td>\n",
       "      <td>1.0</td>\n",
       "      <td>0.0</td>\n",
       "      <td>0.0</td>\n",
       "    </tr>\n",
       "    <tr>\n",
       "      <th>124378</th>\n",
       "      <td>871090.0</td>\n",
       "      <td>0.0</td>\n",
       "      <td>1.0</td>\n",
       "      <td>0.0</td>\n",
       "      <td>0.0</td>\n",
       "    </tr>\n",
       "    <tr>\n",
       "      <th>124379</th>\n",
       "      <td>871093.0</td>\n",
       "      <td>0.0</td>\n",
       "      <td>0.0</td>\n",
       "      <td>0.0</td>\n",
       "      <td>1.0</td>\n",
       "    </tr>\n",
       "    <tr>\n",
       "      <th>124380</th>\n",
       "      <td>871095.0</td>\n",
       "      <td>0.0</td>\n",
       "      <td>0.0</td>\n",
       "      <td>0.0</td>\n",
       "      <td>1.0</td>\n",
       "    </tr>\n",
       "    <tr>\n",
       "      <th>124381</th>\n",
       "      <td>871110.0</td>\n",
       "      <td>0.0</td>\n",
       "      <td>0.0</td>\n",
       "      <td>1.0</td>\n",
       "      <td>0.0</td>\n",
       "    </tr>\n",
       "  </tbody>\n",
       "</table>\n",
       "<p>124382 rows × 5 columns</p>\n",
       "</div>"
      ],
      "text/plain": [
       "               0     1     2    3     4\n",
       "0            0.0  16.0   0.0  7.0  11.0\n",
       "1            1.0   6.0   0.0  7.0  11.0\n",
       "2            2.0  10.0   0.0  4.0   2.0\n",
       "3            3.0   9.0   0.0  4.0   9.0\n",
       "4            4.0   0.0  12.0  0.0   1.0\n",
       "...          ...   ...   ...  ...   ...\n",
       "124377  870984.0   0.0   1.0  0.0   0.0\n",
       "124378  871090.0   0.0   1.0  0.0   0.0\n",
       "124379  871093.0   0.0   0.0  0.0   1.0\n",
       "124380  871095.0   0.0   0.0  0.0   1.0\n",
       "124381  871110.0   0.0   0.0  1.0   0.0\n",
       "\n",
       "[124382 rows x 5 columns]"
      ]
     },
     "execution_count": 84,
     "metadata": {
      "tags": []
     },
     "output_type": "execute_result"
    }
   ],
   "source": [
    "train_labels_by_user"
   ]
  },
  {
   "cell_type": "code",
   "execution_count": null,
   "metadata": {
    "id": "O-mdPcjWIO0w"
   },
   "outputs": [],
   "source": [
    "def reshape_inputs(dataset, users_history):\n",
    "    n_sequences = dataset['session_id'].nunique()\n",
    "    max_length = max(dataset['session_id'].value_counts())\n",
    "    unique_users = users_history[0].unique()\n",
    "    sequences = -np.ones((n_sequences, max_length, 7))\n",
    "    user_data = np.zeros((n_sequences, 4))\n",
    "\n",
    "    i = 0\n",
    "    grouped = dataset.groupby('session_id').apply(np.array)\n",
    "    for seq in grouped:\n",
    "        l = len(seq)\n",
    "        user = seq[0,1]\n",
    "        sequences[i,:l] = seq[:,1:]\n",
    "        if user in unique_users:\n",
    "            user_data[i,:] = users_history.loc[users_history[0] == user, [1,2,3,4]]\n",
    "        i += 1\n",
    "    return sequences, user_data"
   ]
  },
  {
   "cell_type": "code",
   "execution_count": null,
   "metadata": {
    "id": "xsm19LnG8GpJ"
   },
   "outputs": [],
   "source": [
    "def reshape_sequences(dataset):\n",
    "    n_sequences = dataset['session_id'].nunique()\n",
    "    max_length = max(dataset['session_id'].value_counts())\n",
    "    sequences = -np.ones((n_sequences, max_length, 7))\n",
    "\n",
    "    i = 0\n",
    "    grouped = dataset.groupby('session_id').apply(np.array)\n",
    "    for seq in grouped:\n",
    "        l = len(seq) \n",
    "        sequences[i,:l] = seq[:,1:] \n",
    "        i += 1\n",
    "    return sequences"
   ]
  },
  {
   "cell_type": "code",
   "execution_count": null,
   "metadata": {
    "id": "xTqmkHCk04y2"
   },
   "outputs": [],
   "source": [
    "def get_user_data(dataset, series):\n",
    "    user_sessions = dataset.groupby('session_id')['user_identifier'].unique().apply(lambda s: s[0]).reset_index()\n",
    "    user_sessions['label'] = series.sort_values(by='session_id').reset_index()['label']\n",
    "    unique_users = np.sort(user_sessions['user_identifier'].unique())\n",
    "    labels_by_user = user_sessions.groupby('user_identifier')['label'].value_counts()\n",
    "\n",
    "    labels_count_by_user = np.zeros((124382,5), dtype=np.float32)\n",
    "    j = 0\n",
    "    for user in unique_users:\n",
    "        labels_count_by_user[j,0] = user\n",
    "        for i in labels_by_user[user].index:\n",
    "            labels_count_by_user[j,i] = labels_by_user[user,i]\n",
    "        j += 1\n",
    "    \n",
    "    return pd.DataFrame(labels_count_by_user)"
   ]
  },
  {
   "cell_type": "code",
   "execution_count": null,
   "metadata": {
    "id": "SrSZ9lqHIO0w"
   },
   "outputs": [],
   "source": [
    "X_train_1, X_train_2 = reshape_inputs(train_df, train_labels_by_user)\n",
    "X_test_1, X_test_2 = reshape_inputs(test_df, train_labels_by_user)\n",
    "X_val_1, X_val_2 = reshape_inputs(val_df, train_labels_by_user)"
   ]
  },
  {
   "cell_type": "code",
   "execution_count": null,
   "metadata": {
    "id": "rjpVFUi4l26w"
   },
   "outputs": [],
   "source": [
    "y_train = y_train['label'] - 1 # REMEMBER TO DO +1 WHEN SUBMITTING\n",
    "y_test = y_test['label'] - 1\n",
    "y_val = y_val['label'] - 1"
   ]
  },
  {
   "cell_type": "code",
   "execution_count": null,
   "metadata": {
    "id": "3Wg8vMpZsN8d"
   },
   "outputs": [],
   "source": [
    "i = 0\n",
    "for label in y_train:\n",
    "    X_train_2[i,label] -= 1\n",
    "    i += 1"
   ]
  },
  {
   "cell_type": "code",
   "execution_count": null,
   "metadata": {
    "id": "rE2r4YsGt64k"
   },
   "outputs": [],
   "source": [
    "scaler = StandardScaler()\n",
    "X_train_1 = scaler.fit_transform(X_train_1.reshape(-1, X_train_1.shape[-1])).reshape(X_train_1.shape)\n",
    "X_test_1 = scaler.transform(X_test_1.reshape(-1, X_test_1.shape[-1])).reshape(X_test_1.shape)\n",
    "X_val_1 = scaler.transform(X_val_1.reshape(-1, X_val_1.shape[-1])).reshape(X_val_1.shape)"
   ]
  },
  {
   "cell_type": "code",
   "execution_count": null,
   "metadata": {
    "id": "NeKNuGbouFIG"
   },
   "outputs": [],
   "source": [
    "X_train_2 = scaler.fit_transform(X_train_2)\n",
    "X_test_2 = scaler.transform(X_test_2)\n",
    "X_val_2 = scaler.transform(X_val_2)"
   ]
  },
  {
   "cell_type": "code",
   "execution_count": null,
   "metadata": {
    "colab": {
     "base_uri": "https://localhost:8080/"
    },
    "id": "ru1b_frftgMT",
    "outputId": "210af8cf-1c9c-4659-ac6c-349b22cc406c"
   },
   "outputs": [
    {
     "data": {
      "text/plain": [
       "array([[0., 0., 0., 0.],\n",
       "       [0., 0., 0., 0.],\n",
       "       [0., 0., 0., 0.],\n",
       "       ...,\n",
       "       [0., 0., 0., 0.],\n",
       "       [0., 1., 0., 0.],\n",
       "       [1., 1., 0., 1.]])"
      ]
     },
     "execution_count": 40,
     "metadata": {
      "tags": []
     },
     "output_type": "execute_result"
    }
   ],
   "source": [
    "X_train_2"
   ]
  },
  {
   "cell_type": "code",
   "execution_count": null,
   "metadata": {
    "colab": {
     "base_uri": "https://localhost:8080/"
    },
    "id": "eFfwpCvfsZNH",
    "outputId": "03513ece-6260-4b12-c894-44105b8b938a"
   },
   "outputs": [
    {
     "data": {
      "text/plain": [
       "array([[1., 0., 0., 0.],\n",
       "       [0., 1., 0., 0.],\n",
       "       [0., 1., 0., 0.],\n",
       "       ...,\n",
       "       [1., 0., 0., 0.],\n",
       "       [0., 1., 1., 0.],\n",
       "       [2., 1., 0., 1.]])"
      ]
     },
     "execution_count": 37,
     "metadata": {
      "tags": []
     },
     "output_type": "execute_result"
    }
   ],
   "source": [
    "X_train_2"
   ]
  },
  {
   "cell_type": "code",
   "execution_count": null,
   "metadata": {
    "id": "lX_XW-LN5uEl"
   },
   "outputs": [],
   "source": [
    "training = reshape_sequences(training_data)"
   ]
  },
  {
   "cell_type": "code",
   "execution_count": null,
   "metadata": {
    "id": "-5WWeZ2EIO0x"
   },
   "outputs": [],
   "source": [
    "testing = reshape_sequences(testing_data)"
   ]
  },
  {
   "cell_type": "code",
   "execution_count": null,
   "metadata": {
    "id": "IqYTyPX8V0_S"
   },
   "outputs": [],
   "source": [
    "returning_users_test = pd.Series(X_test_1[:,0,0]).isin(X_train_1[:,0,0])\n",
    "returning_users_val = pd.Series(X_val_1[:,0,0]).isin(X_train_1[:,0,0])   "
   ]
  },
  {
   "cell_type": "code",
   "execution_count": null,
   "metadata": {
    "id": "qHjTKGbn_Zph"
   },
   "outputs": [],
   "source": [
    "new_users_test, y_new_test = X_test[~returning_users_test], y_test[~returning_users_test]\n",
    "new_users_val, y_new_val = X_val[~returning_users_val], y_val[~returning_users_val]"
   ]
  },
  {
   "cell_type": "code",
   "execution_count": null,
   "metadata": {
    "id": "SwBmC480ADVL"
   },
   "outputs": [],
   "source": [
    "new_users_train = X_train[:,:,1:]\n",
    "new_users_test = new_users_test[:,:,1:]\n",
    "new_users_val = new_users_val[:,:,1:]"
   ]
  },
  {
   "cell_type": "code",
   "execution_count": null,
   "metadata": {
    "id": "w9_oFiSUIO0x"
   },
   "outputs": [],
   "source": [
    "scaler = StandardScaler()\n",
    "X_train = scaler.fit_transform(X_train.reshape(-1, X_train.shape[-1])).reshape(X_train.shape)\n",
    "X_test = scaler.transform(X_test.reshape(-1, X_test.shape[-1])).reshape(X_test.shape)\n",
    "X_val = scaler.transform(X_val.reshape(-1, X_val.shape[-1])).reshape(X_val.shape)"
   ]
  },
  {
   "cell_type": "code",
   "execution_count": null,
   "metadata": {
    "id": "IJqRWnhEW6bw"
   },
   "outputs": [],
   "source": [
    "scaler = StandardScaler()\n",
    "training = scaler.fit_transform(training.reshape(-1, training.shape[-1])).reshape(training.shape)\n",
    "testing = scaler.transform(testing.reshape(-1, testing.shape[-1])).reshape(testing.shape)"
   ]
  },
  {
   "cell_type": "code",
   "execution_count": null,
   "metadata": {
    "colab": {
     "base_uri": "https://localhost:8080/"
    },
    "id": "-PxNdoLM71p8",
    "outputId": "d142fa1d-91d3-4fd0-d876-78fe5e831ba0"
   },
   "outputs": [
    {
     "data": {
      "text/plain": [
       "array([ 8.50004676e+04,  4.33559210e+06,  6.83401855e-01,  3.54139053e+00,\n",
       "        2.76293911e-01, -7.16633548e-01,  3.23954465e+06])"
      ]
     },
     "execution_count": 56,
     "metadata": {
      "tags": []
     },
     "output_type": "execute_result"
    }
   ],
   "source": [
    "scaler.mean_"
   ]
  },
  {
   "cell_type": "code",
   "execution_count": null,
   "metadata": {
    "id": "pRfvdlMnA37F"
   },
   "outputs": [],
   "source": [
    "def build_model(filters=128, kernel_size=3):\n",
    "    model = Sequential()\n",
    "    n_layers = int(np.ceil(np.log2(30 / (kernel_size - 1))))\n",
    "    dilation_schedule = [2**k for k in range(1, n_layers)]\n",
    "\n",
    "    model.add(Conv1D(filters, kernel_size, padding='causal', dilation_rate=1, activation='relu', input_shape=(30, 7)))\n",
    "    for rate in dilation_schedule:\n",
    "        model.add(WeightNormalization(Conv1D(filters, kernel_size, padding='causal', dilation_rate=rate, activation='relu')))\n",
    "        model.add(Dropout(0.3))\n",
    "    model.add(Flatten())\n",
    "    model.add(Dense(64, activation='relu'))\n",
    "    model.add(Dropout(0.3))\n",
    "    model.add(Dense(4, activation='softmax'))\n",
    "\n",
    "    opt = Adam(learning_rate=1e-3, amsgrad=True)\n",
    "    model.compile(\n",
    "        optimizer=opt, loss='sparse_categorical_crossentropy', metrics=['accuracy'])\n",
    "    \n",
    "    return model"
   ]
  },
  {
   "cell_type": "code",
   "execution_count": null,
   "metadata": {
    "id": "lzhV0jIevPJj"
   },
   "outputs": [],
   "source": [
    "from keras.layers.merge import concatenate\n",
    "from tensorflow.keras.models import Model\n",
    "\n",
    "def build_model(filters=128, kernel_size=3):\n",
    "    input2 = Input(shape=(4))\n",
    "\n",
    "    input3 = Input(shape=(30,7))\n",
    "\n",
    "    n_layers = int(np.ceil(np.log2(30 / (kernel_size - 1))))\n",
    "    dilation_schedule = [2**k for k in range(1, n_layers)]\n",
    "\n",
    "    conv = Conv1D(filters, kernel_size, padding='causal', dilation_rate=1, activation='relu', input_shape=(30,7))(input3)\n",
    "    for rate in dilation_schedule:\n",
    "        conv = WeightNormalization(Conv1D(filters, kernel_size, padding='causal', dilation_rate=rate, activation='relu'))(conv)\n",
    "        conv = Dropout(0.3)(conv)\n",
    "    flattened = Flatten()(conv)\n",
    "\n",
    "    concatenated = concatenate([input2, flattened])\n",
    "    dense = Dense(1024, activation='relu')(concatenated)\n",
    "    dropout = Dropout(0.3)(dense)\n",
    "    dense = Dense(2048, activation='relu')(dropout)\n",
    "    dropout = Dropout(0.3)(dense)\n",
    "    out = Dense(4, activation='softmax')(dropout)\n",
    "    model = Model([input3, input2], out)\n",
    "\n",
    "    opt = Adam(learning_rate=1e-3, amsgrad=True)\n",
    "    model.compile(\n",
    "        optimizer=opt, loss='sparse_categorical_crossentropy', metrics=['accuracy'])\n",
    "    \n",
    "    return model"
   ]
  },
  {
   "cell_type": "code",
   "execution_count": null,
   "metadata": {
    "id": "R8WRv-rrzsRA"
   },
   "outputs": [],
   "source": [
    "from keras.layers.merge import concatenate\n",
    "from tensorflow.keras.models import Model\n",
    "\n",
    "def build_model(filters=128, kernel_size=3): # BEST ONE\n",
    "    input2 = Input(shape=(4))\n",
    "\n",
    "    input3 = Input(shape=(30,7))\n",
    "\n",
    "    n_layers = int(np.ceil(np.log2(30 / (kernel_size - 1))))\n",
    "    dilation_schedule = [2**k for k in range(1, n_layers)]\n",
    "\n",
    "    conv = Conv1D(filters, kernel_size, padding='causal', dilation_rate=1, activation='relu', input_shape=(30,7))(input3)\n",
    "    for rate in dilation_schedule:\n",
    "        conv = WeightNormalization(Conv1D(filters, kernel_size, padding='causal', dilation_rate=rate, activation='relu'))(conv)\n",
    "        conv = Dropout(0.3)(conv)\n",
    "    flattened = Flatten()(conv)\n",
    "\n",
    "    concatenated = concatenate([input2, flattened])\n",
    "    dense = Dense(1024, activation='relu')(concatenated)\n",
    "    dropout = Dropout(0.3)(dense)\n",
    "    dense = Dense(2048, activation='relu')(dropout)\n",
    "    dropout = Dropout(0.3)(dense)\n",
    "    out = Dense(4, activation='softmax')(dropout)\n",
    "    model = Model([input3, input2], out)\n",
    "\n",
    "    opt = Adam(learning_rate=1e-3, amsgrad=True)\n",
    "    model.compile(\n",
    "        optimizer=opt, loss='sparse_categorical_crossentropy', metrics=['accuracy'])\n",
    "    \n",
    "    return model"
   ]
  },
  {
   "cell_type": "code",
   "execution_count": null,
   "metadata": {
    "id": "x1aAn6OEP1yH"
   },
   "outputs": [],
   "source": [
    "model = build_model()"
   ]
  },
  {
   "cell_type": "code",
   "execution_count": null,
   "metadata": {
    "id": "vmnKqP5krlGG"
   },
   "outputs": [],
   "source": [
    "model = KerasClassifier(build_model)\n",
    "batch_sizes = [32, 64, 128, 256]\n",
    "epochs = [20, 40, 60]\n",
    "filters = [64, 128, 256, 512]\n",
    "kernel_sizes = [2, 3, 4, 5, 6, 7, 8]\n",
    "param_grid = {'kernel_size': kernel_sizes, 'epochs': epochs, 'batch_size': batch_sizes, 'filters': filters} # 'batch_size': batch_sizes 'filters': filters, 'kernel_size': kernel_sizes}\n",
    "\n",
    "grid = GridSearchCV(model, param_grid=param_grid)\n",
    "grid_result = grid.fit(new_users_train, y_train, cv=3)"
   ]
  },
  {
   "cell_type": "code",
   "execution_count": null,
   "metadata": {
    "id": "L6NByZEcbXop"
   },
   "outputs": [],
   "source": [
    "grid.best_params_"
   ]
  },
  {
   "cell_type": "code",
   "execution_count": null,
   "metadata": {
    "id": "F98IdLn_IO0y",
    "scrolled": true
   },
   "outputs": [],
   "source": [
    "def build_recurrent():\n",
    "    model = Sequential()\n",
    "\n",
    "    model.add(GRU(240, return_sequences=False, dropout=0.1))\n",
    "    model.add(Dense(64, activation='relu'))\n",
    "    model.add(Dropout(0.1))\n",
    "    model.add(Dense(4, activation='softmax'))\n",
    "\n",
    "    opt = Adam(learning_rate=1e-3, amsgrad=True)\n",
    "    model.compile(\n",
    "        optimizer=opt, loss='sparse_categorical_crossentropy', metrics=['accuracy'])\n",
    "    \n",
    "    return model"
   ]
  },
  {
   "cell_type": "code",
   "execution_count": null,
   "metadata": {
    "id": "HH1uM9aYwTPP"
   },
   "outputs": [],
   "source": [
    "history = model.fit([X_train_1, X_train_2], y_train, validation_data=([X_val_1, X_val_2], y_val), epochs=20, batch_size=64)"
   ]
  },
  {
   "cell_type": "code",
   "execution_count": null,
   "metadata": {
    "id": "w36MPAmqIO0y"
   },
   "outputs": [],
   "source": [
    "history = model.fit(X_train, y_train, validation_data=(X_val[returning_users_val], y_val[returning_users_val]), epochs=20, batch_size=64)"
   ]
  },
  {
   "cell_type": "code",
   "execution_count": null,
   "metadata": {
    "id": "U-0Qj25tWx7L"
   },
   "outputs": [],
   "source": [
    "history = model.fit(training, labels, epochs=20, batch_size=64)"
   ]
  },
  {
   "cell_type": "code",
   "execution_count": null,
   "metadata": {
    "colab": {
     "base_uri": "https://localhost:8080/"
    },
    "id": "XcXI4VUUA1OV",
    "outputId": "e180e323-5aa0-42b2-c533-22cbc7e734f0"
   },
   "outputs": [
    {
     "name": "stdout",
     "output_type": "stream",
     "text": [
      "Model: \"model_6\"\n",
      "__________________________________________________________________________________________________\n",
      "Layer (type)                    Output Shape         Param #     Connected to                     \n",
      "==================================================================================================\n",
      "input_14 (InputLayer)           [(None, 30, 7)]      0                                            \n",
      "__________________________________________________________________________________________________\n",
      "conv1d_24 (Conv1D)              (None, 30, 128)      2816        input_14[0][0]                   \n",
      "__________________________________________________________________________________________________\n",
      "weight_normalization_18 (Weight (None, 30, 128)      98689       conv1d_24[0][0]                  \n",
      "__________________________________________________________________________________________________\n",
      "dropout_30 (Dropout)            (None, 30, 128)      0           weight_normalization_18[0][0]    \n",
      "__________________________________________________________________________________________________\n",
      "weight_normalization_19 (Weight (None, 30, 128)      98689       dropout_30[0][0]                 \n",
      "__________________________________________________________________________________________________\n",
      "dropout_31 (Dropout)            (None, 30, 128)      0           weight_normalization_19[0][0]    \n",
      "__________________________________________________________________________________________________\n",
      "weight_normalization_20 (Weight (None, 30, 128)      98689       dropout_31[0][0]                 \n",
      "__________________________________________________________________________________________________\n",
      "dropout_32 (Dropout)            (None, 30, 128)      0           weight_normalization_20[0][0]    \n",
      "__________________________________________________________________________________________________\n",
      "input_13 (InputLayer)           [(None, 4)]          0                                            \n",
      "__________________________________________________________________________________________________\n",
      "flatten_6 (Flatten)             (None, 3840)         0           dropout_32[0][0]                 \n",
      "__________________________________________________________________________________________________\n",
      "concatenate_6 (Concatenate)     (None, 3844)         0           input_13[0][0]                   \n",
      "                                                                 flatten_6[0][0]                  \n",
      "__________________________________________________________________________________________________\n",
      "dense_18 (Dense)                (None, 1024)         3937280     concatenate_6[0][0]              \n",
      "__________________________________________________________________________________________________\n",
      "dropout_33 (Dropout)            (None, 1024)         0           dense_18[0][0]                   \n",
      "__________________________________________________________________________________________________\n",
      "dense_19 (Dense)                (None, 2048)         2099200     dropout_33[0][0]                 \n",
      "__________________________________________________________________________________________________\n",
      "dropout_34 (Dropout)            (None, 2048)         0           dense_19[0][0]                   \n",
      "__________________________________________________________________________________________________\n",
      "dense_20 (Dense)                (None, 4)            8196        dropout_34[0][0]                 \n",
      "==================================================================================================\n",
      "Total params: 6,343,559\n",
      "Trainable params: 6,195,716\n",
      "Non-trainable params: 147,843\n",
      "__________________________________________________________________________________________________\n"
     ]
    }
   ],
   "source": [
    "model.summary()"
   ]
  },
  {
   "cell_type": "code",
   "execution_count": null,
   "metadata": {
    "colab": {
     "base_uri": "https://localhost:8080/"
    },
    "id": "OxktqWmA9N3U",
    "outputId": "5aa2aba6-9978-46f5-98e1-4c91799b7c0e"
   },
   "outputs": [
    {
     "name": "stdout",
     "output_type": "stream",
     "text": [
      "978/978 [==============================] - 4s 4ms/step - loss: 1.1170 - accuracy: 0.5188\n"
     ]
    },
    {
     "data": {
      "text/plain": [
       "[1.1170214414596558, 0.5188181400299072]"
      ]
     },
     "execution_count": 75,
     "metadata": {
      "tags": []
     },
     "output_type": "execute_result"
    }
   ],
   "source": [
    "model.evaluate([X_test_1, X_test_2], y_test)"
   ]
  },
  {
   "cell_type": "code",
   "execution_count": null,
   "metadata": {
    "colab": {
     "base_uri": "https://localhost:8080/"
    },
    "id": "afwKNMc8WyDk",
    "outputId": "9223d1ae-b668-44bb-d202-650495f4715a"
   },
   "outputs": [
    {
     "name": "stdout",
     "output_type": "stream",
     "text": [
      "254/254 [==============================] - 1s 4ms/step - loss: 0.9401 - accuracy: 0.6330\n"
     ]
    },
    {
     "data": {
      "text/plain": [
       "[0.9401163458824158, 0.6329551339149475]"
      ]
     },
     "execution_count": 78,
     "metadata": {
      "tags": []
     },
     "output_type": "execute_result"
    }
   ],
   "source": [
    "model.evaluate([X_test_1[returning_users_test,:,:], X_test_2[returning_users_test,:]], y_test[(returning_users_test).to_numpy()])"
   ]
  },
  {
   "cell_type": "code",
   "execution_count": null,
   "metadata": {
    "id": "hBDdlECaIO0z"
   },
   "outputs": [],
   "source": [
    "model.save_weights('weights_conv_best.h5')"
   ]
  },
  {
   "cell_type": "code",
   "execution_count": null,
   "metadata": {
    "id": "yTUv82XSNDWL"
   },
   "outputs": [],
   "source": [
    "model.load_weights('weights_conv1.h5')"
   ]
  },
  {
   "cell_type": "code",
   "execution_count": null,
   "metadata": {
    "id": "KXwaaCaJYIc7"
   },
   "outputs": [],
   "source": [
    "prediction = np.argmax(model.predict(testing), axis=1) + 1"
   ]
  },
  {
   "cell_type": "code",
   "execution_count": null,
   "metadata": {
    "id": "wp7TVk5dYSsC"
   },
   "outputs": [],
   "source": [
    "prediction = prediction.astype(int)\n",
    "np.savetxt('submission.txt', prediction)"
   ]
  },
  {
   "cell_type": "code",
   "execution_count": null,
   "metadata": {
    "id": "x2oNH9wDTFmK"
   },
   "outputs": [],
   "source": [
    "y_pred = np.argmax(model.predict([X_test_1,X_test_2]), axis=1)\n",
    "confusion_matrix(y_test, y_pred)"
   ]
  },
  {
   "cell_type": "code",
   "execution_count": null,
   "metadata": {
    "colab": {
     "base_uri": "https://localhost:8080/"
    },
    "id": "5tZmv1tZTcd9",
    "outputId": "df91710c-1a53-40c8-e753-a88185e3515d"
   },
   "outputs": [
    {
     "name": "stdout",
     "output_type": "stream",
     "text": [
      "samples from class 0: 0.26656945790125 %\n",
      "samples from class 1: 0.3656312654087085 %\n",
      "samples from class 2: 0.1892597104841572 %\n",
      "samples from class 3: 0.17853956620588432 %\n"
     ]
    }
   ],
   "source": [
    "l = len(labels)\n",
    "for i in range(4):\n",
    "    print(f'samples from class {i}: {np.sum(labels == i) / l} %')"
   ]
  },
  {
   "cell_type": "code",
   "execution_count": null,
   "metadata": {
    "id": "q9Ss3mPtpOoL"
   },
   "outputs": [],
   "source": []
  }
 ],
 "metadata": {
  "accelerator": "GPU",
  "colab": {
   "collapsed_sections": [],
   "name": "vodafone_challenge (1).ipynb",
   "provenance": []
  },
  "kernelspec": {
   "display_name": "Python 3",
   "language": "python",
   "name": "python3"
  },
  "language_info": {
   "codemirror_mode": {
    "name": "ipython",
    "version": 3
   },
   "file_extension": ".py",
   "mimetype": "text/x-python",
   "name": "python",
   "nbconvert_exporter": "python",
   "pygments_lexer": "ipython3",
   "version": "3.7.9"
  }
 },
 "nbformat": 4,
 "nbformat_minor": 1
}
